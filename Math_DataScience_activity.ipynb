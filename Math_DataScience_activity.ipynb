{
  "nbformat": 4,
  "nbformat_minor": 0,
  "metadata": {
    "colab": {
      "provenance": [],
      "authorship_tag": "ABX9TyMyfnl+8uIw9WlBmAPf/9rE",
      "include_colab_link": true
    },
    "kernelspec": {
      "name": "python3",
      "display_name": "Python 3"
    },
    "language_info": {
      "name": "python"
    }
  },
  "cells": [
    {
      "cell_type": "markdown",
      "metadata": {
        "id": "view-in-github",
        "colab_type": "text"
      },
      "source": [
        "<a href=\"https://colab.research.google.com/github/m-rafiul-islam/uiw-ds/blob/main/Math_DataScience_activity.ipynb\" target=\"_parent\"><img src=\"https://colab.research.google.com/assets/colab-badge.svg\" alt=\"Open In Colab\"/></a>"
      ]
    },
    {
      "cell_type": "markdown",
      "source": [
        "# Prime Number"
      ],
      "metadata": {
        "id": "LfzNR4HOSdF4"
      }
    },
    {
      "cell_type": "markdown",
      "source": [
        "#Cryptography\n",
        "Cryptography is the process of hiding or coding information so that only the intended recipient can read it. It's been used for thousands of years and is still used in bank cards, computer passwords, and ecommerce.\n"
      ],
      "metadata": {
        "id": "Vylc08kMEGHu"
      }
    },
    {
      "cell_type": "markdown",
      "source": [
        "**Activity: Cipher Scavenger Hunt**\n",
        "\n",
        "Materials:\n",
        "\n",
        "* Envelopes or small containers\n",
        "\n",
        "* Printed clues or messages encrypted using a simple cipher (e.g., Caesar Cipher)\n",
        "\n",
        "* Alphabet charts for reference\n",
        "\n",
        "**Rules**\n",
        "* Only shift for letters, i.e., no shift for numbers, blank space and special charecters.  \n",
        "* Shift values are only from 2 to 9 (may be prime numbers only)"
      ],
      "metadata": {
        "id": "yBdO8wnCKsLD"
      }
    },
    {
      "cell_type": "code",
      "execution_count": 3,
      "metadata": {
        "id": "55K5KoDnEBcH"
      },
      "outputs": [],
      "source": [
        "def encrypt_caesar(plaintext, shift):\n",
        "    encrypted_text = \"\"\n",
        "    for char in plaintext:\n",
        "        if char.isalpha():\n",
        "            # Encrypt uppercase letters\n",
        "            if char.isupper():\n",
        "                encrypted_text += chr((ord(char) + shift - ord('A')) % 26 + ord('A'))\n",
        "            # Encrypt lowercase letters\n",
        "            else:\n",
        "                encrypted_text += chr((ord(char) + shift - ord('a')) % 26 + ord('a'))\n",
        "        else:\n",
        "            encrypted_text += char\n",
        "    return encrypted_text\n",
        "\n",
        "def decrypt_caesar(ciphertext, shift):\n",
        "    return encrypt_caesar(ciphertext, -shift)\n"
      ]
    },
    {
      "cell_type": "code",
      "source": [
        "# Example usage:\n",
        "message = \"A natural number greater than 1 that has no positive divisors other than 1 and itself.\"\n",
        "shift_value = 3 # Second Prime Number -- any of the prime number\n",
        "\n",
        "# Encrypt the message\n",
        "encrypted_message = encrypt_caesar(message, shift_value)\n",
        "print(\"Encrypted Message:\", encrypted_message)\n",
        "\n",
        "print(\"Shift Value:\", shift_value)\n",
        "# Decrypt the message\n",
        "decrypted_message = decrypt_caesar(encrypted_message, shift_value)\n",
        "print(\"Decrypted Message:\", decrypted_message)"
      ],
      "metadata": {
        "colab": {
          "base_uri": "https://localhost:8080/"
        },
        "id": "UVDRpSVERyB4",
        "outputId": "64c8d637-69ba-4a2e-c1bc-76bdaa617c1d"
      },
      "execution_count": 8,
      "outputs": [
        {
          "output_type": "stream",
          "name": "stdout",
          "text": [
            "Encrypted Message: D qdwxudo qxpehu juhdwhu wkdq 1 wkdw kdv qr srvlwlyh glylvruv rwkhu wkdq 1 dqg lwvhoi.\n",
            "Shift Value: 3\n",
            "Decrypted Message: A natural number greater than 1 that has no positive divisors other than 1 and itself.\n"
          ]
        }
      ]
    },
    {
      "cell_type": "code",
      "source": [
        "# Example usage:\n",
        "message = \"Variable is a symbol or letter that represents a quantity that can change in an equation or expression.\"\n",
        "shift_value = 2 # Second Prime Number -- any of the prime number\n",
        "\n",
        "# Encrypt the message\n",
        "encrypted_message = encrypt_caesar(message, shift_value)\n",
        "print(\"Encrypted Message:\", encrypted_message)\n",
        "\n",
        "print(\"Shift Value:\", shift_value)\n",
        "# Decrypt the message\n",
        "decrypted_message = decrypt_caesar(encrypted_message, shift_value)\n",
        "print(\"Decrypted Message:\", decrypted_message)"
      ],
      "metadata": {
        "colab": {
          "base_uri": "https://localhost:8080/"
        },
        "id": "ylO7Z2RjR-1t",
        "outputId": "df15a507-adf3-4d07-92f7-fb9a11db8b1f"
      },
      "execution_count": 7,
      "outputs": [
        {
          "output_type": "stream",
          "name": "stdout",
          "text": [
            "Encrypted Message: Xctkcdng ku c uaodqn qt ngvvgt vjcv tgrtgugpvu c swcpvkva vjcv ecp ejcpig kp cp gswcvkqp qt gzrtguukqp.\n",
            "Shift Value: 2\n",
            "Decrypted Message: Variable is a symbol or letter that represents a quantity that can change in an equation or expression.\n"
          ]
        }
      ]
    },
    {
      "cell_type": "code",
      "source": [
        "# Example usage:\n",
        "message = \"UIW offers a wide range of undergraduate, graduate, and professional programs.\"\n",
        "shift_value = 5 # Second Prime Number -- any of the prime number\n",
        "\n",
        "# Encrypt the message\n",
        "encrypted_message = encrypt_caesar(message, shift_value)\n",
        "print(\"Encrypted Message:\", encrypted_message)\n",
        "\n",
        "print(\"Shift Value:\", shift_value)\n",
        "# Decrypt the message\n",
        "decrypted_message = decrypt_caesar(encrypted_message, shift_value)\n",
        "print(\"Decrypted Message:\", decrypted_message)"
      ],
      "metadata": {
        "colab": {
          "base_uri": "https://localhost:8080/"
        },
        "id": "9mCdLbD7TmcZ",
        "outputId": "a7c640ed-1e90-4609-cbdf-5dcc6f7e1bca"
      },
      "execution_count": 11,
      "outputs": [
        {
          "output_type": "stream",
          "name": "stdout",
          "text": [
            "Encrypted Message: ZNB tkkjwx f bnij wfslj tk zsijwlwfizfyj, lwfizfyj, fsi uwtkjxxntsfq uwtlwfrx.\n",
            "Shift Value: 5\n",
            "Decrypted Message: UIW offers a wide range of undergraduate, graduate, and professional programs.\n"
          ]
        }
      ]
    }
  ]
}