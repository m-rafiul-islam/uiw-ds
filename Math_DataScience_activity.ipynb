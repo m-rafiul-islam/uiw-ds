{
  "nbformat": 4,
  "nbformat_minor": 0,
  "metadata": {
    "colab": {
      "provenance": [],
      "authorship_tag": "ABX9TyPdUz86SQ3EUarRNlrUIT4R",
      "include_colab_link": true
    },
    "kernelspec": {
      "name": "python3",
      "display_name": "Python 3"
    },
    "language_info": {
      "name": "python"
    }
  },
  "cells": [
    {
      "cell_type": "markdown",
      "metadata": {
        "id": "view-in-github",
        "colab_type": "text"
      },
      "source": [
        "<a href=\"https://colab.research.google.com/github/m-rafiul-islam/uiw-ds/blob/main/Math_DataScience_activity.ipynb\" target=\"_parent\"><img src=\"https://colab.research.google.com/assets/colab-badge.svg\" alt=\"Open In Colab\"/></a>"
      ]
    },
    {
      "cell_type": "markdown",
      "source": [
        "# Prime Number"
      ],
      "metadata": {
        "id": "LfzNR4HOSdF4"
      }
    },
    {
      "cell_type": "markdown",
      "source": [
        "Definion: A prime number is a **natural number**\n",
        "- greater than 1\n",
        "- that is not a product of two smaller natural numbers.\n",
        "\n",
        "In other words, a prime number is a whole number greater than 1 that is divisible only by **1 and itself**.\n",
        "\n",
        "For example, the first six prime numbers are 2, 3, 5, 7, 11, and 13. These numbers are only divisible evenly by 1 and themselves, and they do not have any other divisors.\n",
        "\n",
        "Prime numbers play a fundamental role in number theory and are used in various mathematical and computational applications, such as cryptography."
      ],
      "metadata": {
        "id": "Pe89iRH8XwKV"
      }
    },
    {
      "cell_type": "code",
      "source": [
        "def is_prime(n):\n",
        "  if n <= 1:\n",
        "    return False\n",
        "  for i in range(2, int(n ** 0.5) + 1):\n",
        "    if n % i == 0:\n",
        "      return False\n",
        "  return True\n",
        "\n",
        "def main(n):\n",
        "  if is_prime(n):\n",
        "    print(f\"{n} is prime.\")\n",
        "  else:\n",
        "    print(f\"   {n} is not prime.\")\n",
        "\n",
        "if __name__ == \"__main__\":\n",
        "  for i in range(2,20):\n",
        "     main(i)"
      ],
      "metadata": {
        "colab": {
          "base_uri": "https://localhost:8080/"
        },
        "id": "aQOh-NK9ZMdN",
        "outputId": "4c27d84b-5418-4de0-8188-d3da01aea428"
      },
      "execution_count": 41,
      "outputs": [
        {
          "output_type": "stream",
          "name": "stdout",
          "text": [
            "2 is prime.\n",
            "3 is prime.\n",
            "   4 is not prime.\n",
            "5 is prime.\n",
            "   6 is not prime.\n",
            "7 is prime.\n",
            "   8 is not prime.\n",
            "   9 is not prime.\n",
            "   10 is not prime.\n",
            "11 is prime.\n",
            "   12 is not prime.\n",
            "13 is prime.\n",
            "   14 is not prime.\n",
            "   15 is not prime.\n",
            "   16 is not prime.\n",
            "17 is prime.\n",
            "   18 is not prime.\n",
            "19 is prime.\n"
          ]
        }
      ]
    },
    {
      "cell_type": "code",
      "source": [
        "is_prime(1)"
      ],
      "metadata": {
        "id": "VqLv0d9cCX7O",
        "outputId": "2acf7b1e-275f-4789-a1aa-d376c17ca70c",
        "colab": {
          "base_uri": "https://localhost:8080/"
        }
      },
      "execution_count": 30,
      "outputs": [
        {
          "output_type": "execute_result",
          "data": {
            "text/plain": [
              "False"
            ]
          },
          "metadata": {},
          "execution_count": 30
        }
      ]
    },
    {
      "cell_type": "markdown",
      "source": [
        "#Cryptography\n",
        "Cryptography is the process of hiding or coding information so that only the intended recipient can read it. It's been used for thousands of years and is still used in bank cards, computer passwords, and ecommerce.\n"
      ],
      "metadata": {
        "id": "Vylc08kMEGHu"
      }
    },
    {
      "cell_type": "markdown",
      "source": [
        "**Activity: Cipher Scavenger Hunt**\n",
        "\n",
        "Materials:\n",
        "\n",
        "* Envelopes or small containers\n",
        "\n",
        "* Printed clues or messages encrypted using a simple cipher (e.g., Caesar Cipher)\n",
        "\n",
        "* Alphabet charts for reference\n",
        "\n",
        "**Rules**\n",
        "* Only shift for letters, i.e., no shift for numbers, blank space and special charecters.  \n",
        "* Shift values are only a prime number from 2 to 7"
      ],
      "metadata": {
        "id": "yBdO8wnCKsLD"
      }
    },
    {
      "cell_type": "code",
      "execution_count": 12,
      "metadata": {
        "id": "55K5KoDnEBcH"
      },
      "outputs": [],
      "source": [
        "def encrypt_caesar(plaintext, shift):\n",
        "    encrypted_text = \"\"\n",
        "    for char in plaintext:\n",
        "        if char.isalpha():\n",
        "            # Encrypt uppercase letters\n",
        "            if char.isupper():\n",
        "                encrypted_text += chr((ord(char) + shift - ord('A')) % 26 + ord('A'))\n",
        "            # Encrypt lowercase letters\n",
        "            else:\n",
        "                encrypted_text += chr((ord(char) + shift - ord('a')) % 26 + ord('a'))\n",
        "        else:\n",
        "            encrypted_text += char\n",
        "    return encrypted_text\n",
        "\n",
        "def decrypt_caesar(ciphertext, shift):\n",
        "    return encrypt_caesar(ciphertext, -shift)\n",
        "\n",
        "def caesar_print(ciphertext, shift):\n",
        "  # Encrypt the message\n",
        "  encrypted_message = encrypt_caesar(message, shift_value)\n",
        "  print(\"Encrypted Message:\", encrypted_message)\n",
        "\n",
        "  print(\"Shift Value:\", shift_value)\n",
        "  # Decrypt the message\n",
        "  decrypted_message = decrypt_caesar(encrypted_message, shift_value)\n",
        "  print(\"Decrypted Message:\", decrypted_message)\n",
        "\n"
      ]
    },
    {
      "cell_type": "code",
      "source": [
        "# Example usage:\n",
        "message = \"Welcome to UIW\"\n",
        "shift_value = 3\n",
        "caesar_print(message, shift_value)"
      ],
      "metadata": {
        "id": "Jjtw01ZkE8g4",
        "outputId": "76d56082-1ff6-4342-b098-498c00735d5f",
        "colab": {
          "base_uri": "https://localhost:8080/"
        }
      },
      "execution_count": 35,
      "outputs": [
        {
          "output_type": "stream",
          "name": "stdout",
          "text": [
            "Encrypted Message: Zhofrph wr XLZ\n",
            "Shift Value: 3\n",
            "Decrypted Message: Welcome to UIW\n"
          ]
        }
      ]
    },
    {
      "cell_type": "code",
      "source": [
        "# Example usage:\n",
        "message = \"Hello\"\n",
        "shift_value = 3\n",
        "caesar_print(message, shift_value)"
      ],
      "metadata": {
        "id": "i4nIID1pKBil",
        "outputId": "3ea3de62-b693-4ee2-e2f5-af56701bd610",
        "colab": {
          "base_uri": "https://localhost:8080/"
        }
      },
      "execution_count": 36,
      "outputs": [
        {
          "output_type": "stream",
          "name": "stdout",
          "text": [
            "Encrypted Message: Khoor\n",
            "Shift Value: 3\n",
            "Decrypted Message: Hello\n"
          ]
        }
      ]
    },
    {
      "cell_type": "code",
      "source": [
        "# Example usage:\n",
        "message = \"4 is not prime\"\n",
        "shift_value = 2\n",
        "caesar_print(message, shift_value)"
      ],
      "metadata": {
        "id": "9WNGnyYlFR6G",
        "outputId": "c13539d7-c148-4ac8-c4c0-447715791ae7",
        "colab": {
          "base_uri": "https://localhost:8080/"
        }
      },
      "execution_count": 16,
      "outputs": [
        {
          "output_type": "stream",
          "name": "stdout",
          "text": [
            "Encrypted Message: 4 ku pqv rtkog\n",
            "Shift Value: 2\n",
            "Decrypted Message: 4 is not prime\n"
          ]
        }
      ]
    },
    {
      "cell_type": "code",
      "source": [
        "# Example usage:\n",
        "message = \"Welcome to UIW\"\n",
        "shift_value = 5\n",
        "caesar_print(message, shift_value)"
      ],
      "metadata": {
        "colab": {
          "base_uri": "https://localhost:8080/"
        },
        "id": "5y4abQc7jWMd",
        "outputId": "05e51451-6431-497b-d282-2d1210c97328"
      },
      "execution_count": 18,
      "outputs": [
        {
          "output_type": "stream",
          "name": "stdout",
          "text": [
            "Encrypted Message: Bjqhtrj yt ZNB\n",
            "Shift Value: 5\n",
            "Decrypted Message: Welcome to UIW\n"
          ]
        }
      ]
    },
    {
      "cell_type": "code",
      "source": [
        "message = \"Bjqhtrj yt ZNB\"\n",
        "shift_value = 5\n",
        "decrypt_caesar(message, shift_value)"
      ],
      "metadata": {
        "id": "0z9VKxOHGSkD",
        "outputId": "2e8e274c-2a22-4657-be37-6a69364a872e",
        "colab": {
          "base_uri": "https://localhost:8080/",
          "height": 35
        }
      },
      "execution_count": 23,
      "outputs": [
        {
          "output_type": "execute_result",
          "data": {
            "text/plain": [
              "'Welcome to UIW'"
            ],
            "application/vnd.google.colaboratory.intrinsic+json": {
              "type": "string"
            }
          },
          "metadata": {},
          "execution_count": 23
        }
      ]
    },
    {
      "cell_type": "code",
      "source": [
        "# Example usage:\n",
        "message = \"A natural number greater than 1 that has no positive divisors other than 1 and itself.\"\n",
        "shift_value = 3 # Second Prime Number -- any of the prime number\n",
        "\n",
        "# Encrypt the message\n",
        "encrypted_message = encrypt_caesar(message, shift_value)\n",
        "print(\"Encrypted Message:\", encrypted_message)\n",
        "\n",
        "print(\"Shift Value:\", shift_value)\n",
        "# Decrypt the message\n",
        "decrypted_message = decrypt_caesar(encrypted_message, shift_value)\n",
        "print(\"Decrypted Message:\", decrypted_message)"
      ],
      "metadata": {
        "colab": {
          "base_uri": "https://localhost:8080/"
        },
        "id": "UVDRpSVERyB4",
        "outputId": "89da0f07-1aa7-42f9-b891-52de7b1b050e"
      },
      "execution_count": 14,
      "outputs": [
        {
          "output_type": "stream",
          "name": "stdout",
          "text": [
            "Encrypted Message: D qdwxudo qxpehu juhdwhu wkdq 1 wkdw kdv qr srvlwlyh glylvruv rwkhu wkdq 1 dqg lwvhoi.\n",
            "Shift Value: 3\n",
            "Decrypted Message: A natural number greater than 1 that has no positive divisors other than 1 and itself.\n"
          ]
        }
      ]
    },
    {
      "cell_type": "code",
      "source": [
        "# Example usage:\n",
        "message = \"UIW offers a wide range of undergraduate, graduate, and professional programs.\"\n",
        "shift_value = 5 # Second Prime Number -- any of the prime number\n",
        "\n",
        "# Encrypt the message\n",
        "encrypted_message = encrypt_caesar(message, shift_value)\n",
        "print(\"Encrypted Message:\", encrypted_message)\n",
        "\n",
        "print(\"Shift Value:\", shift_value)\n",
        "# Decrypt the message\n",
        "decrypted_message = decrypt_caesar(encrypted_message, shift_value)\n",
        "print(\"Decrypted Message:\", decrypted_message)\n"
      ],
      "metadata": {
        "id": "9mCdLbD7TmcZ"
      },
      "execution_count": 37,
      "outputs": []
    },
    {
      "cell_type": "code",
      "source": [
        "# Example usage:\n",
        "message = \"Data science is a fast-growing field.\"\n",
        "shift_value = 3 # Second Prime Number -- any of the prime number\n",
        "\n",
        "# Encrypt the message\n",
        "encrypted_message = encrypt_caesar(message, shift_value)\n",
        "print(\"Encrypted Message:\", encrypted_message)\n",
        "\n",
        "print(\"Shift Value:\", shift_value)\n",
        "# Decrypt the message\n",
        "decrypted_message = decrypt_caesar(encrypted_message, shift_value)\n",
        "print(\"Decrypted Message:\", decrypted_message)"
      ],
      "metadata": {
        "colab": {
          "base_uri": "https://localhost:8080/"
        },
        "id": "Adu1hMDan-G6",
        "outputId": "ab15073f-8ca6-40f1-a5f2-1c973d821f2b"
      },
      "execution_count": 40,
      "outputs": [
        {
          "output_type": "stream",
          "name": "stdout",
          "text": [
            "Encrypted Message: Gdwd vflhqfh lv d idvw-jurzlqj ilhog.\n",
            "Shift Value: 3\n",
            "Decrypted Message: Data science is a fast-growing field.\n"
          ]
        }
      ]
    },
    {
      "cell_type": "code",
      "source": [
        "\n",
        "# Example usage:\n",
        "message = \"UIW offers an exceptional BS in Data Science program.\"\n",
        "shift_value = 5 # Second Prime Number -- any of the prime number\n",
        "\n",
        "# Encrypt the message\n",
        "encrypted_message = encrypt_caesar(message, shift_value)\n",
        "print(\"Encrypted Message:\", encrypted_message)\n",
        "\n",
        "print(\"Shift Value:\", shift_value)\n",
        "# Decrypt the message\n",
        "decrypted_message = decrypt_caesar(encrypted_message, shift_value)\n",
        "print(\"Decrypted Message:\", decrypted_message)"
      ],
      "metadata": {
        "colab": {
          "base_uri": "https://localhost:8080/"
        },
        "id": "Lq5SoG3RpMQt",
        "outputId": "ff06a66a-e635-4c25-8e88-2cd1677104a6"
      },
      "execution_count": 39,
      "outputs": [
        {
          "output_type": "stream",
          "name": "stdout",
          "text": [
            "Encrypted Message: ZNB tkkjwx fs jchjuyntsfq GX ns Ifyf Xhnjshj uwtlwfr.\n",
            "Shift Value: 5\n",
            "Decrypted Message: UIW offers an exceptional BS in Data Science program.\n"
          ]
        }
      ]
    }
  ]
}