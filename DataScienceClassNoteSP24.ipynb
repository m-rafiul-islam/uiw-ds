{
  "nbformat": 4,
  "nbformat_minor": 0,
  "metadata": {
    "colab": {
      "provenance": [],
      "toc_visible": true,
      "authorship_tag": "ABX9TyOLsA212HTj/my90h1JNIUo",
      "include_colab_link": true
    },
    "kernelspec": {
      "name": "python3",
      "display_name": "Python 3"
    },
    "language_info": {
      "name": "python"
    }
  },
  "cells": [
    {
      "cell_type": "markdown",
      "metadata": {
        "id": "view-in-github",
        "colab_type": "text"
      },
      "source": [
        "<a href=\"https://colab.research.google.com/github/m-rafiul-islam/uiw-ds/blob/main/DataScienceClassNoteSP24.ipynb\" target=\"_parent\"><img src=\"https://colab.research.google.com/assets/colab-badge.svg\" alt=\"Open In Colab\"/></a>"
      ]
    },
    {
      "cell_type": "markdown",
      "source": [
        "# Colab Basic"
      ],
      "metadata": {
        "id": "lYcEdEJeVDHN"
      }
    },
    {
      "cell_type": "code",
      "source": [
        "#cell\n",
        "## code cell\n",
        "## Text cell"
      ],
      "metadata": {
        "id": "NM6euKNVUYkE"
      },
      "execution_count": null,
      "outputs": []
    },
    {
      "cell_type": "code",
      "source": [
        "print('a')\n",
        "# crtl+enter\n",
        "# shift+enter"
      ],
      "metadata": {
        "colab": {
          "base_uri": "https://localhost:8080/"
        },
        "id": "4aXP4zMSUeJS",
        "outputId": "caa036df-5715-4771-ba54-3d510d90cbe7"
      },
      "execution_count": null,
      "outputs": [
        {
          "output_type": "stream",
          "name": "stdout",
          "text": [
            "a\n"
          ]
        }
      ]
    },
    {
      "cell_type": "markdown",
      "source": [
        "# Jupyter-Notebook Offine"
      ],
      "metadata": {
        "id": "VRA6vSuXrZF-"
      }
    },
    {
      "cell_type": "markdown",
      "source": [
        "run the followings commands in the terminal and open jupyter notebook\n",
        "\n",
        "`pip install jupyter_contrib_nbextensions`\n",
        "\n",
        "\n",
        "`jupyter contrib nbextension install --user\n",
        "`\n",
        "\n",
        "`jupyter nbextension enable toc2/main`\n",
        "\n",
        "\n",
        "\n"
      ],
      "metadata": {
        "id": "w9MpaOBwro2j"
      }
    },
    {
      "cell_type": "code",
      "source": [],
      "metadata": {
        "id": "qgIHkkCprm6S"
      },
      "execution_count": null,
      "outputs": []
    },
    {
      "cell_type": "markdown",
      "source": [
        "# Markdown\n",
        "\n",
        "**Bold Text **\n",
        "\n",
        "*italicized text*"
      ],
      "metadata": {
        "id": "x3E47ERvVkR1"
      }
    },
    {
      "cell_type": "markdown",
      "source": [
        "https://www.ibm.com/docs/en/watson-studio-local/1.2.3?topic=notebooks-markdown-jupyter-cheatsheet"
      ],
      "metadata": {
        "id": "bf5s8Ge619qJ"
      }
    },
    {
      "cell_type": "markdown",
      "source": [
        "# Command Lines\n",
        "https://www.codecademy.com/learn/learn-the-command-line/modules/learn-the-command-line-navigation/cheatsheet"
      ],
      "metadata": {
        "id": "uwUsdeJX2NDC"
      }
    },
    {
      "cell_type": "code",
      "source": [
        "# command-line commands"
      ],
      "metadata": {
        "id": "t1qil7DM_a2D"
      },
      "execution_count": null,
      "outputs": []
    },
    {
      "cell_type": "code",
      "source": [
        "pwd # print working directory"
      ],
      "metadata": {
        "colab": {
          "base_uri": "https://localhost:8080/",
          "height": 36
        },
        "id": "WKbGw4Zi_jR8",
        "outputId": "b6e9b3a0-aff8-4c5d-cf18-6cab17b93fe4"
      },
      "execution_count": null,
      "outputs": [
        {
          "output_type": "execute_result",
          "data": {
            "text/plain": [
              "'/content'"
            ],
            "application/vnd.google.colaboratory.intrinsic+json": {
              "type": "string"
            }
          },
          "metadata": {},
          "execution_count": 10
        }
      ]
    },
    {
      "cell_type": "code",
      "source": [
        "ls #list of all files and folder"
      ],
      "metadata": {
        "colab": {
          "base_uri": "https://localhost:8080/"
        },
        "id": "lvRZ59D__4hL",
        "outputId": "f3c47263-f315-4d1c-dc2e-1f4f1b414237"
      },
      "execution_count": null,
      "outputs": [
        {
          "output_type": "stream",
          "name": "stdout",
          "text": [
            "\u001b[0m\u001b[01;34msample_data\u001b[0m/\n"
          ]
        }
      ]
    },
    {
      "cell_type": "markdown",
      "source": [
        "cd: change directory"
      ],
      "metadata": {
        "id": "9SuphXcsADUk"
      }
    },
    {
      "cell_type": "code",
      "source": [
        "pwd"
      ],
      "metadata": {
        "colab": {
          "base_uri": "https://localhost:8080/",
          "height": 36
        },
        "id": "FJyW0QGk_uWD",
        "outputId": "b29a88dd-9630-4dda-bfd2-bc03b938b0c6"
      },
      "execution_count": null,
      "outputs": [
        {
          "output_type": "execute_result",
          "data": {
            "text/plain": [
              "'/content'"
            ],
            "application/vnd.google.colaboratory.intrinsic+json": {
              "type": "string"
            }
          },
          "metadata": {},
          "execution_count": 14
        }
      ]
    },
    {
      "cell_type": "code",
      "source": [
        "cd sample_data/"
      ],
      "metadata": {
        "colab": {
          "base_uri": "https://localhost:8080/"
        },
        "id": "j7Pf8lARALcc",
        "outputId": "2f4c93c3-ccd3-4ca9-ee17-3aa3939db816"
      },
      "execution_count": null,
      "outputs": [
        {
          "output_type": "stream",
          "name": "stdout",
          "text": [
            "/content/sample_data\n"
          ]
        }
      ]
    },
    {
      "cell_type": "code",
      "source": [
        "pwd"
      ],
      "metadata": {
        "colab": {
          "base_uri": "https://localhost:8080/",
          "height": 36
        },
        "id": "6OIZ_7eTAPCz",
        "outputId": "19c8844e-c230-43c9-d5d8-6fd36e2798f3"
      },
      "execution_count": null,
      "outputs": [
        {
          "output_type": "execute_result",
          "data": {
            "text/plain": [
              "'/content/sample_data'"
            ],
            "application/vnd.google.colaboratory.intrinsic+json": {
              "type": "string"
            }
          },
          "metadata": {},
          "execution_count": 16
        }
      ]
    },
    {
      "cell_type": "markdown",
      "source": [
        "# Python Basic"
      ],
      "metadata": {
        "id": "Q4wJXSFDU6Ik"
      }
    },
    {
      "cell_type": "markdown",
      "source": [
        "add any comments"
      ],
      "metadata": {
        "id": "s2VBbDNnWeSt"
      }
    },
    {
      "cell_type": "code",
      "source": [
        "# your comments"
      ],
      "metadata": {
        "id": "eGTQ8YvTVPWL"
      },
      "execution_count": null,
      "outputs": []
    },
    {
      "cell_type": "markdown",
      "source": [
        "## Basic opperations\n"
      ],
      "metadata": {
        "id": "81aolmvSWuWO"
      }
    },
    {
      "cell_type": "code",
      "source": [
        "1"
      ],
      "metadata": {
        "colab": {
          "base_uri": "https://localhost:8080/"
        },
        "id": "5htC7_PwWl3A",
        "outputId": "fb53d976-66cb-4c3c-a9ef-48a395775d43"
      },
      "execution_count": null,
      "outputs": [
        {
          "output_type": "execute_result",
          "data": {
            "text/plain": [
              "1"
            ]
          },
          "metadata": {},
          "execution_count": 1
        }
      ]
    },
    {
      "cell_type": "code",
      "source": [
        "1+2"
      ],
      "metadata": {
        "colab": {
          "base_uri": "https://localhost:8080/"
        },
        "id": "Ufy8CkEmWzzJ",
        "outputId": "79999666-6d55-424b-a0dd-939942aa63bf"
      },
      "execution_count": null,
      "outputs": [
        {
          "output_type": "execute_result",
          "data": {
            "text/plain": [
              "3"
            ]
          },
          "metadata": {},
          "execution_count": 2
        }
      ]
    },
    {
      "cell_type": "code",
      "source": [
        "2-1"
      ],
      "metadata": {
        "colab": {
          "base_uri": "https://localhost:8080/"
        },
        "id": "Ip_uXpKqW02f",
        "outputId": "66e56634-68c2-4fb7-eac3-47f24540ebfc"
      },
      "execution_count": null,
      "outputs": [
        {
          "output_type": "execute_result",
          "data": {
            "text/plain": [
              "1"
            ]
          },
          "metadata": {},
          "execution_count": 3
        }
      ]
    },
    {
      "cell_type": "code",
      "source": [
        "# multiplication\n",
        "1*2"
      ],
      "metadata": {
        "colab": {
          "base_uri": "https://localhost:8080/"
        },
        "id": "4bEgMp3LW2mu",
        "outputId": "6bf63c61-f877-4ce8-d3d7-e21447888e5f"
      },
      "execution_count": null,
      "outputs": [
        {
          "output_type": "execute_result",
          "data": {
            "text/plain": [
              "2"
            ]
          },
          "metadata": {},
          "execution_count": 4
        }
      ]
    },
    {
      "cell_type": "code",
      "source": [
        "# division\n",
        "6/2"
      ],
      "metadata": {
        "colab": {
          "base_uri": "https://localhost:8080/"
        },
        "id": "L-uVF7ByW5Z-",
        "outputId": "df2972a5-2871-4ae9-d258-dab5bd583a6d"
      },
      "execution_count": null,
      "outputs": [
        {
          "output_type": "execute_result",
          "data": {
            "text/plain": [
              "3.0"
            ]
          },
          "metadata": {},
          "execution_count": 5
        }
      ]
    },
    {
      "cell_type": "code",
      "source": [
        "# modulo division\n",
        "6%2"
      ],
      "metadata": {
        "colab": {
          "base_uri": "https://localhost:8080/"
        },
        "id": "J_DeeZBuXEbP",
        "outputId": "de06dd76-2630-4d2a-b865-d0dcbb6b8334"
      },
      "execution_count": null,
      "outputs": [
        {
          "output_type": "execute_result",
          "data": {
            "text/plain": [
              "0"
            ]
          },
          "metadata": {},
          "execution_count": 6
        }
      ]
    },
    {
      "cell_type": "code",
      "source": [
        "# Multiplcation\n",
        "3*2\n",
        "3**2 #** power"
      ],
      "metadata": {
        "colab": {
          "base_uri": "https://localhost:8080/"
        },
        "id": "eDz6gpwiXGmn",
        "outputId": "21f0a55a-a3ec-4cf5-c57d-9501b7363313"
      },
      "execution_count": null,
      "outputs": [
        {
          "output_type": "execute_result",
          "data": {
            "text/plain": [
              "9"
            ]
          },
          "metadata": {},
          "execution_count": 7
        }
      ]
    },
    {
      "cell_type": "code",
      "source": [
        "3^2"
      ],
      "metadata": {
        "colab": {
          "base_uri": "https://localhost:8080/"
        },
        "id": "5aX0MkzXXZXv",
        "outputId": "e809bbc2-e3b1-4e21-d25e-964bb2f8e718"
      },
      "execution_count": null,
      "outputs": [
        {
          "output_type": "execute_result",
          "data": {
            "text/plain": [
              "1"
            ]
          },
          "metadata": {},
          "execution_count": 8
        }
      ]
    },
    {
      "cell_type": "markdown",
      "source": [
        "## Variable Assignment"
      ],
      "metadata": {
        "id": "5rTWU5wkX2em"
      }
    },
    {
      "cell_type": "code",
      "source": [
        "x = 2\n",
        "y = 3"
      ],
      "metadata": {
        "id": "h1R3aFIzXi-X"
      },
      "execution_count": null,
      "outputs": []
    },
    {
      "cell_type": "code",
      "source": [
        "add = x+y"
      ],
      "metadata": {
        "id": "E5ylHJnKX_V-"
      },
      "execution_count": null,
      "outputs": []
    },
    {
      "cell_type": "code",
      "source": [
        "# how to show the output\n",
        "add"
      ],
      "metadata": {
        "colab": {
          "base_uri": "https://localhost:8080/"
        },
        "id": "RPLBhxgZYBUt",
        "outputId": "ac447355-bb3f-4c96-ecf3-44d7646ae483"
      },
      "execution_count": null,
      "outputs": [
        {
          "output_type": "execute_result",
          "data": {
            "text/plain": [
              "5"
            ]
          },
          "metadata": {},
          "execution_count": 22
        }
      ]
    },
    {
      "cell_type": "code",
      "source": [
        "print(add)"
      ],
      "metadata": {
        "colab": {
          "base_uri": "https://localhost:8080/"
        },
        "id": "pn3c4uIiYJX9",
        "outputId": "5aca9e4f-97a7-434e-e933-abab09c0b605"
      },
      "execution_count": null,
      "outputs": [
        {
          "output_type": "stream",
          "name": "stdout",
          "text": [
            "5\n"
          ]
        }
      ]
    },
    {
      "cell_type": "code",
      "source": [
        "x\n",
        "y"
      ],
      "metadata": {
        "colab": {
          "base_uri": "https://localhost:8080/"
        },
        "id": "RWGEqw0LYK8f",
        "outputId": "1b7fd31f-8ea9-4289-8311-8c1a7be6cfe0"
      },
      "execution_count": null,
      "outputs": [
        {
          "output_type": "execute_result",
          "data": {
            "text/plain": [
              "3"
            ]
          },
          "metadata": {},
          "execution_count": 25
        }
      ]
    },
    {
      "cell_type": "code",
      "source": [
        "print(x)\n",
        "print(y)"
      ],
      "metadata": {
        "colab": {
          "base_uri": "https://localhost:8080/"
        },
        "id": "ePs0M4LjYPXv",
        "outputId": "c9a0ef55-4f24-4aaf-e5f7-a7c1ad65aa1b"
      },
      "execution_count": null,
      "outputs": [
        {
          "output_type": "stream",
          "name": "stdout",
          "text": [
            "2\n",
            "3\n"
          ]
        }
      ]
    },
    {
      "cell_type": "code",
      "source": [
        "# print is a built-in python function, function()"
      ],
      "metadata": {
        "id": "IqhekLyFYdsO"
      },
      "execution_count": null,
      "outputs": []
    },
    {
      "cell_type": "code",
      "source": [
        "print('x = ',x)"
      ],
      "metadata": {
        "colab": {
          "base_uri": "https://localhost:8080/"
        },
        "id": "WIz0RhK6Yzfm",
        "outputId": "3f383b2f-d7d9-49a7-a9f4-708a4fdbdfa9"
      },
      "execution_count": null,
      "outputs": [
        {
          "output_type": "stream",
          "name": "stdout",
          "text": [
            "x =  2\n"
          ]
        }
      ]
    },
    {
      "cell_type": "markdown",
      "source": [
        "## Data Types\n",
        "- Numbers\n",
        "- Strings\n",
        "- Lists\n",
        "- Tules\n",
        "- Booleans\n",
        "- Sets\n",
        "- Dictionaries\n",
        "\n",
        "https://jakevdp.github.io/WhirlwindTourOfPython/06-built-in-data-structures.html\n"
      ],
      "metadata": {
        "id": "haU8WYX-zY24"
      }
    },
    {
      "cell_type": "markdown",
      "source": [
        "### String"
      ],
      "metadata": {
        "id": "C_LuWKCWZEDy"
      }
    },
    {
      "cell_type": "code",
      "source": [
        "s = 'hello'\n",
        "s"
      ],
      "metadata": {
        "colab": {
          "base_uri": "https://localhost:8080/",
          "height": 36
        },
        "id": "mnvInQYTZId4",
        "outputId": "29890578-4966-4541-e889-5be9e7016fe0"
      },
      "execution_count": null,
      "outputs": [
        {
          "output_type": "execute_result",
          "data": {
            "text/plain": [
              "'hello'"
            ],
            "application/vnd.google.colaboratory.intrinsic+json": {
              "type": "string"
            }
          },
          "metadata": {},
          "execution_count": 29
        }
      ]
    },
    {
      "cell_type": "code",
      "source": [
        "# like print(), type() is also a built-in function\n",
        "type(x)"
      ],
      "metadata": {
        "colab": {
          "base_uri": "https://localhost:8080/"
        },
        "id": "mahI6tTkZPYQ",
        "outputId": "f434349d-a060-46a7-af1a-d6225c5f29d4"
      },
      "execution_count": null,
      "outputs": [
        {
          "output_type": "execute_result",
          "data": {
            "text/plain": [
              "int"
            ]
          },
          "metadata": {},
          "execution_count": 30
        }
      ]
    },
    {
      "cell_type": "code",
      "source": [
        "#int - short form for integer\n",
        "# str - short form for string"
      ],
      "metadata": {
        "id": "hNiNdjifZlrR"
      },
      "execution_count": null,
      "outputs": []
    },
    {
      "cell_type": "code",
      "source": [
        "type(s)"
      ],
      "metadata": {
        "colab": {
          "base_uri": "https://localhost:8080/"
        },
        "id": "2T1qJNv4ZqPv",
        "outputId": "4106ac86-7501-4bc7-d0ba-3151c2a24d9e"
      },
      "execution_count": null,
      "outputs": [
        {
          "output_type": "execute_result",
          "data": {
            "text/plain": [
              "str"
            ]
          },
          "metadata": {},
          "execution_count": 31
        }
      ]
    },
    {
      "cell_type": "code",
      "source": [
        "# three ways you can assign a string\n",
        "# using sigle quote\n",
        "s = 'hello'\n",
        "s"
      ],
      "metadata": {
        "colab": {
          "base_uri": "https://localhost:8080/",
          "height": 36
        },
        "id": "N6XBNFVPZsNb",
        "outputId": "50616e4b-a9cf-45ed-f89b-f7c4f76a8a10"
      },
      "execution_count": null,
      "outputs": [
        {
          "output_type": "execute_result",
          "data": {
            "text/plain": [
              "'hello'"
            ],
            "application/vnd.google.colaboratory.intrinsic+json": {
              "type": "string"
            }
          },
          "metadata": {},
          "execution_count": 32
        }
      ]
    },
    {
      "cell_type": "code",
      "source": [
        "# using double qoute\n",
        "s = \"hello\"\n",
        "s"
      ],
      "metadata": {
        "colab": {
          "base_uri": "https://localhost:8080/",
          "height": 36
        },
        "id": "dLj1s8BAaBYh",
        "outputId": "82ef1bc8-0b6b-4fb1-b28c-b84f28a646f6"
      },
      "execution_count": null,
      "outputs": [
        {
          "output_type": "execute_result",
          "data": {
            "text/plain": [
              "'hello'"
            ],
            "application/vnd.google.colaboratory.intrinsic+json": {
              "type": "string"
            }
          },
          "metadata": {},
          "execution_count": 33
        }
      ]
    },
    {
      "cell_type": "code",
      "source": [
        "# using tiriple qoute --- normally used for multiline\n",
        "s = '''line 1\n",
        "line 2\n",
        "line 3'''"
      ],
      "metadata": {
        "id": "CxlAzNXsaJcZ"
      },
      "execution_count": null,
      "outputs": []
    },
    {
      "cell_type": "code",
      "source": [
        "s"
      ],
      "metadata": {
        "colab": {
          "base_uri": "https://localhost:8080/",
          "height": 36
        },
        "id": "aX3-P7zNaf7X",
        "outputId": "174d55a9-c33d-448a-e107-67b7a6daabfe"
      },
      "execution_count": null,
      "outputs": [
        {
          "output_type": "execute_result",
          "data": {
            "text/plain": [
              "'line 1\\nline 2\\nline 3'"
            ],
            "application/vnd.google.colaboratory.intrinsic+json": {
              "type": "string"
            }
          },
          "metadata": {},
          "execution_count": 40
        }
      ]
    },
    {
      "cell_type": "code",
      "source": [
        "# \\n : new line"
      ],
      "metadata": {
        "id": "1q1BNtSualCH"
      },
      "execution_count": null,
      "outputs": []
    },
    {
      "cell_type": "code",
      "source": [
        "print(s)"
      ],
      "metadata": {
        "colab": {
          "base_uri": "https://localhost:8080/"
        },
        "id": "vdzTUd1-arUv",
        "outputId": "97a8721e-6857-46b4-d433-d300248bd3be"
      },
      "execution_count": null,
      "outputs": [
        {
          "output_type": "stream",
          "name": "stdout",
          "text": [
            "line 1\n",
            "line 2\n",
            "line 3\n"
          ]
        }
      ]
    },
    {
      "cell_type": "code",
      "source": [
        "x = '''we are learning Pyhton now in\n",
        "      room BSH 216'''"
      ],
      "metadata": {
        "id": "Deqq_BTeasUa"
      },
      "execution_count": null,
      "outputs": []
    },
    {
      "cell_type": "code",
      "source": [
        "x"
      ],
      "metadata": {
        "colab": {
          "base_uri": "https://localhost:8080/",
          "height": 36
        },
        "id": "yz4KZnU-bEyB",
        "outputId": "9978bae3-fd22-432d-c270-0e1bc39549c0"
      },
      "execution_count": null,
      "outputs": [
        {
          "output_type": "execute_result",
          "data": {
            "text/plain": [
              "'we are learning Pyhton now in\\n      room BSH 216'"
            ],
            "application/vnd.google.colaboratory.intrinsic+json": {
              "type": "string"
            }
          },
          "metadata": {},
          "execution_count": 43
        }
      ]
    },
    {
      "cell_type": "code",
      "source": [
        "mul_s = 'we are learning Pyhton now in\\n      room BSH 216'\n",
        "mul_s"
      ],
      "metadata": {
        "colab": {
          "base_uri": "https://localhost:8080/",
          "height": 36
        },
        "id": "mqnUbHERbFVp",
        "outputId": "06ed8536-27f3-4c5c-c3bf-1b4cd03f7443"
      },
      "execution_count": null,
      "outputs": [
        {
          "output_type": "execute_result",
          "data": {
            "text/plain": [
              "'we are learning Pyhton now in\\n      room BSH 216'"
            ],
            "application/vnd.google.colaboratory.intrinsic+json": {
              "type": "string"
            }
          },
          "metadata": {},
          "execution_count": 45
        }
      ]
    },
    {
      "cell_type": "code",
      "source": [
        "print(mul_s)"
      ],
      "metadata": {
        "colab": {
          "base_uri": "https://localhost:8080/"
        },
        "id": "DFDZs4RqbZVH",
        "outputId": "36620809-25a9-457a-8c55-b5d3c9a873a4"
      },
      "execution_count": null,
      "outputs": [
        {
          "output_type": "stream",
          "name": "stdout",
          "text": [
            "we are learning Pyhton now in\n",
            "      room BSH 216\n"
          ]
        }
      ]
    },
    {
      "cell_type": "code",
      "source": [
        "mul_s = r'we are learning Pyhton now in\\n      room BSH 216'\n",
        "mul_s"
      ],
      "metadata": {
        "colab": {
          "base_uri": "https://localhost:8080/",
          "height": 36
        },
        "id": "hvwTvlqHbeMQ",
        "outputId": "4bb64cfc-a9cf-457f-a38d-8f8c1d03ef22"
      },
      "execution_count": null,
      "outputs": [
        {
          "output_type": "execute_result",
          "data": {
            "text/plain": [
              "'we are learning Pyhton now in\\\\n      room BSH 216'"
            ],
            "application/vnd.google.colaboratory.intrinsic+json": {
              "type": "string"
            }
          },
          "metadata": {},
          "execution_count": 47
        }
      ]
    },
    {
      "cell_type": "code",
      "source": [
        "print(mul_s)"
      ],
      "metadata": {
        "colab": {
          "base_uri": "https://localhost:8080/"
        },
        "id": "qFV_FlR6bhp7",
        "outputId": "53ce8a31-48f1-4499-958d-1f4d82de1885"
      },
      "execution_count": null,
      "outputs": [
        {
          "output_type": "stream",
          "name": "stdout",
          "text": [
            "we are learning Pyhton now in\\n      room BSH 216\n"
          ]
        }
      ]
    },
    {
      "cell_type": "code",
      "source": [
        "# r -- raw string\n",
        "# normally '\\n' means new line\n",
        "# r'\\n' means \\n"
      ],
      "metadata": {
        "id": "HeS7b5k1bjnS"
      },
      "execution_count": null,
      "outputs": []
    },
    {
      "cell_type": "markdown",
      "source": [
        "I want to pint the following statement\n",
        "\n",
        "we can't wait to learn new python code."
      ],
      "metadata": {
        "id": "m69A6r37cdA-"
      }
    },
    {
      "cell_type": "markdown",
      "source": [
        "\\ : called escape character\n",
        "\n",
        "\\n: means new line\n",
        "\n",
        "\\t: means tab\n"
      ],
      "metadata": {
        "id": "IF90211ydD_q"
      }
    },
    {
      "cell_type": "code",
      "source": [
        "print(\"we can't wait to learn new python code.\")"
      ],
      "metadata": {
        "colab": {
          "base_uri": "https://localhost:8080/"
        },
        "id": "9gd4a9fbccRA",
        "outputId": "6abbe5f9-658e-42e1-d85d-b26e07409254"
      },
      "execution_count": null,
      "outputs": [
        {
          "output_type": "stream",
          "name": "stdout",
          "text": [
            "we can't wait to learn new python code.\n"
          ]
        }
      ]
    },
    {
      "cell_type": "code",
      "source": [
        "print('''we can't wait to learn new python code.''')"
      ],
      "metadata": {
        "colab": {
          "base_uri": "https://localhost:8080/"
        },
        "id": "1ACtEt8Ld58Z",
        "outputId": "27139117-776c-48dd-c93d-3f2e5cc4f5e0"
      },
      "execution_count": null,
      "outputs": [
        {
          "output_type": "stream",
          "name": "stdout",
          "text": [
            "we can't wait to learn new python code.\n"
          ]
        }
      ]
    },
    {
      "cell_type": "code",
      "source": [
        "s =\"we can't wait to learn new python code.\"\n",
        "s"
      ],
      "metadata": {
        "colab": {
          "base_uri": "https://localhost:8080/",
          "height": 36
        },
        "id": "L8aZy8BgeDNz",
        "outputId": "cd17517a-4a37-4104-92eb-cb5a7f7eaf11"
      },
      "execution_count": null,
      "outputs": [
        {
          "output_type": "execute_result",
          "data": {
            "text/plain": [
              "\"we can't wait to learn new python code.\""
            ],
            "application/vnd.google.colaboratory.intrinsic+json": {
              "type": "string"
            }
          },
          "metadata": {},
          "execution_count": 54
        }
      ]
    },
    {
      "cell_type": "markdown",
      "source": [
        "### Lists\n",
        "A list is a data structure in Python that is a mutable, or changeable, ordered sequence of elements.\n",
        "**The standard mutable multi-element container**\n",
        "https://jakevdp.github.io/WhirlwindTourOfPython/11-list-comprehensions.html"
      ],
      "metadata": {
        "id": "dAAccHEdeapR"
      }
    },
    {
      "cell_type": "code",
      "source": [
        "l = [1,2,3]"
      ],
      "metadata": {
        "id": "BnNwyQlTec7s"
      },
      "execution_count": null,
      "outputs": []
    },
    {
      "cell_type": "code",
      "source": [
        "type(l)"
      ],
      "metadata": {
        "colab": {
          "base_uri": "https://localhost:8080/"
        },
        "id": "zFqnucgafJd0",
        "outputId": "e78933a3-637d-4d4b-8639-eff3cb441189"
      },
      "execution_count": null,
      "outputs": [
        {
          "output_type": "execute_result",
          "data": {
            "text/plain": [
              "list"
            ]
          },
          "metadata": {},
          "execution_count": 56
        }
      ]
    },
    {
      "cell_type": "code",
      "source": [
        "for item in l:\n",
        "  print(type(item))"
      ],
      "metadata": {
        "colab": {
          "base_uri": "https://localhost:8080/"
        },
        "id": "EsRNa-ukfK3s",
        "outputId": "9872605d-44e0-4ded-9778-eee9e97decec"
      },
      "execution_count": null,
      "outputs": [
        {
          "output_type": "stream",
          "name": "stdout",
          "text": [
            "<class 'int'>\n",
            "<class 'int'>\n",
            "<class 'int'>\n"
          ]
        }
      ]
    },
    {
      "cell_type": "code",
      "source": [
        "multi_type_list = [1,1.2,[1,'hello'],'string']\n",
        "type(multi_type_list)"
      ],
      "metadata": {
        "colab": {
          "base_uri": "https://localhost:8080/"
        },
        "id": "R2xJ8sjAfUTM",
        "outputId": "7612472f-a9b8-4c73-ef9a-0c6c7c4d0435"
      },
      "execution_count": null,
      "outputs": [
        {
          "output_type": "execute_result",
          "data": {
            "text/plain": [
              "list"
            ]
          },
          "metadata": {},
          "execution_count": 61
        }
      ]
    },
    {
      "cell_type": "code",
      "source": [
        "for item in multi_type_list:\n",
        "  print(type(item))"
      ],
      "metadata": {
        "colab": {
          "base_uri": "https://localhost:8080/"
        },
        "id": "ybhHjjZRfoCT",
        "outputId": "a1fa3676-f3db-495d-ade6-0157d38a4542"
      },
      "execution_count": null,
      "outputs": [
        {
          "output_type": "stream",
          "name": "stdout",
          "text": [
            "<class 'int'>\n",
            "<class 'float'>\n",
            "<class 'list'>\n",
            "<class 'str'>\n"
          ]
        }
      ]
    },
    {
      "cell_type": "code",
      "source": [
        "range(9)"
      ],
      "metadata": {
        "colab": {
          "base_uri": "https://localhost:8080/"
        },
        "id": "yi4FzhMLA_2t",
        "outputId": "c7a890bf-ca8a-4d27-caf1-da5149f27670"
      },
      "execution_count": null,
      "outputs": [
        {
          "output_type": "execute_result",
          "data": {
            "text/plain": [
              "range(0, 9)"
            ]
          },
          "metadata": {},
          "execution_count": 17
        }
      ]
    },
    {
      "cell_type": "code",
      "source": [
        "list(range(9))"
      ],
      "metadata": {
        "colab": {
          "base_uri": "https://localhost:8080/"
        },
        "id": "hbKYfJW-A_s0",
        "outputId": "438080a5-c96f-4612-bec1-127761c713fc"
      },
      "execution_count": null,
      "outputs": [
        {
          "output_type": "execute_result",
          "data": {
            "text/plain": [
              "[0, 1, 2, 3, 4, 5, 6, 7, 8]"
            ]
          },
          "metadata": {},
          "execution_count": 18
        }
      ]
    },
    {
      "cell_type": "code",
      "source": [
        "list(range(2,10))"
      ],
      "metadata": {
        "colab": {
          "base_uri": "https://localhost:8080/"
        },
        "id": "MfokCXiMBSdk",
        "outputId": "0767ac38-c9df-459a-e3fa-12ce70d3f895"
      },
      "execution_count": null,
      "outputs": [
        {
          "output_type": "execute_result",
          "data": {
            "text/plain": [
              "[2, 3, 4, 5, 6, 7, 8, 9]"
            ]
          },
          "metadata": {},
          "execution_count": 19
        }
      ]
    },
    {
      "cell_type": "code",
      "source": [
        "# using loop\n",
        "[items for items in range(9)]"
      ],
      "metadata": {
        "colab": {
          "base_uri": "https://localhost:8080/"
        },
        "id": "9vhSVGA6BaVN",
        "outputId": "bcd22386-28b9-4274-9324-37b4a92680c7"
      },
      "execution_count": null,
      "outputs": [
        {
          "output_type": "execute_result",
          "data": {
            "text/plain": [
              "[0, 1, 2, 3, 4, 5, 6, 7, 8]"
            ]
          },
          "metadata": {},
          "execution_count": 21
        }
      ]
    },
    {
      "cell_type": "code",
      "source": [
        "# using loop\n",
        "[items for items in range(9) if items%2==0] #only even numbers"
      ],
      "metadata": {
        "colab": {
          "base_uri": "https://localhost:8080/"
        },
        "id": "ayTm0GosBx71",
        "outputId": "0caca0a6-0938-49c2-8c6e-11f3710907d9"
      },
      "execution_count": null,
      "outputs": [
        {
          "output_type": "execute_result",
          "data": {
            "text/plain": [
              "[0, 2, 4, 6, 8]"
            ]
          },
          "metadata": {},
          "execution_count": 22
        }
      ]
    },
    {
      "cell_type": "code",
      "source": [
        "4/2"
      ],
      "metadata": {
        "colab": {
          "base_uri": "https://localhost:8080/"
        },
        "id": "vmH3LM5MCKo1",
        "outputId": "8d35fa48-99f9-45d9-aa1c-c0dddb6b3482"
      },
      "execution_count": null,
      "outputs": [
        {
          "output_type": "execute_result",
          "data": {
            "text/plain": [
              "2.0"
            ]
          },
          "metadata": {},
          "execution_count": 23
        }
      ]
    },
    {
      "cell_type": "code",
      "source": [
        "4%2"
      ],
      "metadata": {
        "colab": {
          "base_uri": "https://localhost:8080/"
        },
        "id": "urHFO_9vCM5l",
        "outputId": "5fd6dca0-7a5a-4374-cbeb-c8a10d7f03cf"
      },
      "execution_count": null,
      "outputs": [
        {
          "output_type": "execute_result",
          "data": {
            "text/plain": [
              "0"
            ]
          },
          "metadata": {},
          "execution_count": 24
        }
      ]
    },
    {
      "cell_type": "code",
      "source": [
        "# using loop\n",
        "[items for items in range(9) if items%2!=0] #only odd numbers"
      ],
      "metadata": {
        "colab": {
          "base_uri": "https://localhost:8080/"
        },
        "id": "fum2T7AuCkmH",
        "outputId": "91b6c882-bb6f-46e3-af77-edb4848a9b85"
      },
      "execution_count": null,
      "outputs": [
        {
          "output_type": "execute_result",
          "data": {
            "text/plain": [
              "[1, 3, 5, 7]"
            ]
          },
          "metadata": {},
          "execution_count": 25
        }
      ]
    },
    {
      "cell_type": "code",
      "source": [
        "# using loop\n",
        "[items for items in range(9) if items%2==1] #only odd numbers"
      ],
      "metadata": {
        "colab": {
          "base_uri": "https://localhost:8080/"
        },
        "id": "isKIWclOC7P1",
        "outputId": "4f6e0add-8224-436f-9a9b-d3110f27809c"
      },
      "execution_count": null,
      "outputs": [
        {
          "output_type": "execute_result",
          "data": {
            "text/plain": [
              "[1, 3, 5, 7]"
            ]
          },
          "metadata": {},
          "execution_count": 26
        }
      ]
    },
    {
      "cell_type": "code",
      "source": [
        "list0 = [1,2.0,['x',4,['hello',1]]]\n",
        "# how many elements in this list\n",
        "len(list0)"
      ],
      "metadata": {
        "colab": {
          "base_uri": "https://localhost:8080/"
        },
        "id": "ZVapbVRQDC8w",
        "outputId": "13abac2a-63fa-4ecc-e86b-ad79db0afc11"
      },
      "execution_count": null,
      "outputs": [
        {
          "output_type": "execute_result",
          "data": {
            "text/plain": [
              "3"
            ]
          },
          "metadata": {},
          "execution_count": 29
        }
      ]
    },
    {
      "cell_type": "code",
      "source": [
        "# what are those elements?\n",
        "for element in list0:\n",
        "  print(element)"
      ],
      "metadata": {
        "colab": {
          "base_uri": "https://localhost:8080/"
        },
        "id": "6PGSUyd8Eiho",
        "outputId": "c55abb1a-d4f9-48f2-f1cc-6df526d4a87d"
      },
      "execution_count": null,
      "outputs": [
        {
          "output_type": "stream",
          "name": "stdout",
          "text": [
            "1\n",
            "2.0\n",
            "['x', 4, ['hello', 1]]\n"
          ]
        }
      ]
    },
    {
      "cell_type": "code",
      "source": [
        "# grab the word 'hello' from the above list0\n",
        "list0[2]"
      ],
      "metadata": {
        "colab": {
          "base_uri": "https://localhost:8080/"
        },
        "id": "2-PEPWrBFST_",
        "outputId": "9a8992f9-7a08-43f2-f59d-2f84a75c6267"
      },
      "execution_count": null,
      "outputs": [
        {
          "output_type": "execute_result",
          "data": {
            "text/plain": [
              "['x', 4, ['hello', 1]]"
            ]
          },
          "metadata": {},
          "execution_count": 33
        }
      ]
    },
    {
      "cell_type": "code",
      "source": [
        "list0[2][2]"
      ],
      "metadata": {
        "colab": {
          "base_uri": "https://localhost:8080/"
        },
        "id": "PsZdjtDvFzno",
        "outputId": "50f49deb-7368-498a-f72c-96abd1403aef"
      },
      "execution_count": null,
      "outputs": [
        {
          "output_type": "execute_result",
          "data": {
            "text/plain": [
              "['hello', 1]"
            ]
          },
          "metadata": {},
          "execution_count": 34
        }
      ]
    },
    {
      "cell_type": "code",
      "source": [
        "list0[2][2][0]"
      ],
      "metadata": {
        "colab": {
          "base_uri": "https://localhost:8080/",
          "height": 36
        },
        "id": "8mimpolKF4tH",
        "outputId": "157d9923-b654-4ed5-c8fb-fca0c7f9080f"
      },
      "execution_count": null,
      "outputs": [
        {
          "output_type": "execute_result",
          "data": {
            "text/plain": [
              "'hello'"
            ],
            "application/vnd.google.colaboratory.intrinsic+json": {
              "type": "string"
            }
          },
          "metadata": {},
          "execution_count": 35
        }
      ]
    },
    {
      "cell_type": "code",
      "source": [
        "list1 = [1,[2.0,'st'],3,['x',4,['hello',1]],{1,2}]\n",
        "list1"
      ],
      "metadata": {
        "colab": {
          "base_uri": "https://localhost:8080/"
        },
        "id": "KdJRHt8PGNhU",
        "outputId": "0ea7350c-4f16-4a83-d631-92e4117d59c7"
      },
      "execution_count": null,
      "outputs": [
        {
          "output_type": "execute_result",
          "data": {
            "text/plain": [
              "[1, [2.0, 'st'], 3, ['x', 4, ['hello', 1]], {1, 2}]"
            ]
          },
          "metadata": {},
          "execution_count": 37
        }
      ]
    },
    {
      "cell_type": "code",
      "source": [
        "# grab the word 'hello' from the above list\n",
        "list1[3][2][0]"
      ],
      "metadata": {
        "colab": {
          "base_uri": "https://localhost:8080/",
          "height": 36
        },
        "id": "LVCBK2MKGgBg",
        "outputId": "b170ec1e-0d0a-422f-a6b8-a6d6d168a410"
      },
      "execution_count": null,
      "outputs": [
        {
          "output_type": "execute_result",
          "data": {
            "text/plain": [
              "'hello'"
            ],
            "application/vnd.google.colaboratory.intrinsic+json": {
              "type": "string"
            }
          },
          "metadata": {},
          "execution_count": 39
        }
      ]
    },
    {
      "cell_type": "markdown",
      "source": [
        "*python keywords*\n",
        "- for\n",
        "- in\n",
        "- list\n",
        "- len\n",
        "- type and many more\n",
        "\n",
        "It is a good practice not to use variable name from python keywords."
      ],
      "metadata": {
        "id": "sf1BAI5GDqfI"
      }
    },
    {
      "cell_type": "code",
      "source": [
        "l = [1,[2.0,'st'],3,['x',4,['hello',1]],{1,2}]\n",
        "# how many different data types the above list has?\n",
        "# type() function\n",
        "\n",
        "for item in l:\n",
        "  print(type(item))"
      ],
      "metadata": {
        "colab": {
          "base_uri": "https://localhost:8080/"
        },
        "id": "ORS58uEOHiTh",
        "outputId": "09c3aa58-af7e-4232-bdbf-30eb293ac922"
      },
      "execution_count": null,
      "outputs": [
        {
          "output_type": "stream",
          "name": "stdout",
          "text": [
            "<class 'int'>\n",
            "<class 'list'>\n",
            "<class 'int'>\n",
            "<class 'list'>\n",
            "<class 'set'>\n"
          ]
        }
      ]
    },
    {
      "cell_type": "code",
      "source": [
        "len(l)"
      ],
      "metadata": {
        "colab": {
          "base_uri": "https://localhost:8080/"
        },
        "id": "kb7tfNnbIRpK",
        "outputId": "1faeb169-d7cb-4519-bce3-b3776ac57283"
      },
      "execution_count": null,
      "outputs": [
        {
          "output_type": "execute_result",
          "data": {
            "text/plain": [
              "5"
            ]
          },
          "metadata": {},
          "execution_count": 44
        }
      ]
    },
    {
      "cell_type": "markdown",
      "source": [
        "### Tuples\n",
        "\n",
        "immutable\n"
      ],
      "metadata": {
        "id": "JvtDo-3WIgj4"
      }
    },
    {
      "cell_type": "code",
      "source": [
        "tup = (1,2,3) #parentheses\n",
        "tup"
      ],
      "metadata": {
        "colab": {
          "base_uri": "https://localhost:8080/"
        },
        "id": "SXaxLSAMIrkC",
        "outputId": "4468c3a2-0501-40b8-d974-3ba3b334a0bc"
      },
      "execution_count": null,
      "outputs": [
        {
          "output_type": "execute_result",
          "data": {
            "text/plain": [
              "(1, 2, 3)"
            ]
          },
          "metadata": {},
          "execution_count": 46
        }
      ]
    },
    {
      "cell_type": "code",
      "source": [
        "lis = [1,2,3]\n",
        "lis"
      ],
      "metadata": {
        "colab": {
          "base_uri": "https://localhost:8080/"
        },
        "id": "uwrFL1T1I4s7",
        "outputId": "a547dfb5-bd6f-497c-e80f-8cfb13a8b68d"
      },
      "execution_count": null,
      "outputs": [
        {
          "output_type": "execute_result",
          "data": {
            "text/plain": [
              "[1, 2, 3]"
            ]
          },
          "metadata": {},
          "execution_count": 47
        }
      ]
    },
    {
      "cell_type": "code",
      "source": [
        "lis[2]"
      ],
      "metadata": {
        "colab": {
          "base_uri": "https://localhost:8080/"
        },
        "id": "hntfPdjBI_C6",
        "outputId": "ed6cae12-ab69-4c6e-d9cf-c6bb0d097c77"
      },
      "execution_count": null,
      "outputs": [
        {
          "output_type": "execute_result",
          "data": {
            "text/plain": [
              "3"
            ]
          },
          "metadata": {},
          "execution_count": 48
        }
      ]
    },
    {
      "cell_type": "code",
      "source": [
        "lis[2] = 'hello'\n",
        "lis"
      ],
      "metadata": {
        "colab": {
          "base_uri": "https://localhost:8080/"
        },
        "id": "rXH8rEN1JEo5",
        "outputId": "1f5f78e6-04f9-49b3-9ef5-fd5923bbad5b"
      },
      "execution_count": null,
      "outputs": [
        {
          "output_type": "execute_result",
          "data": {
            "text/plain": [
              "[1, 2, 'hello']"
            ]
          },
          "metadata": {},
          "execution_count": 51
        }
      ]
    },
    {
      "cell_type": "markdown",
      "source": [
        "List is changeable, mutable"
      ],
      "metadata": {
        "id": "xkz4KakdJNZo"
      }
    },
    {
      "cell_type": "code",
      "source": [
        "tup = (1,2,3)\n",
        "tup[2]"
      ],
      "metadata": {
        "colab": {
          "base_uri": "https://localhost:8080/"
        },
        "id": "ATHiUy4XJTkq",
        "outputId": "dedbfcf6-52b2-4410-8c7e-a0598e37c76f"
      },
      "execution_count": null,
      "outputs": [
        {
          "output_type": "execute_result",
          "data": {
            "text/plain": [
              "3"
            ]
          },
          "metadata": {},
          "execution_count": 54
        }
      ]
    },
    {
      "cell_type": "code",
      "source": [
        "tup[2] = 'hello'"
      ],
      "metadata": {
        "colab": {
          "base_uri": "https://localhost:8080/",
          "height": 179
        },
        "id": "1e0VLUd3JRVq",
        "outputId": "1360d68d-a555-4cb9-e95c-00426308ee08"
      },
      "execution_count": null,
      "outputs": [
        {
          "output_type": "error",
          "ename": "TypeError",
          "evalue": "'tuple' object does not support item assignment",
          "traceback": [
            "\u001b[0;31m---------------------------------------------------------------------------\u001b[0m",
            "\u001b[0;31mTypeError\u001b[0m                                 Traceback (most recent call last)",
            "\u001b[0;32m<ipython-input-55-14d06e774327>\u001b[0m in \u001b[0;36m<cell line: 1>\u001b[0;34m()\u001b[0m\n\u001b[0;32m----> 1\u001b[0;31m \u001b[0mtup\u001b[0m\u001b[0;34m[\u001b[0m\u001b[0;36m2\u001b[0m\u001b[0;34m]\u001b[0m \u001b[0;34m=\u001b[0m \u001b[0;34m'hello'\u001b[0m\u001b[0;34m\u001b[0m\u001b[0;34m\u001b[0m\u001b[0m\n\u001b[0m",
            "\u001b[0;31mTypeError\u001b[0m: 'tuple' object does not support item assignment"
          ]
        }
      ]
    },
    {
      "cell_type": "markdown",
      "source": [
        "tuple is immutable/unchangeable"
      ],
      "metadata": {
        "id": "A6FWl4lRJlz0"
      }
    },
    {
      "cell_type": "markdown",
      "source": [
        "### Booleans"
      ],
      "metadata": {
        "id": "6_iJzKPB1fbx"
      }
    },
    {
      "cell_type": "code",
      "source": [
        "True"
      ],
      "metadata": {
        "colab": {
          "base_uri": "https://localhost:8080/"
        },
        "id": "XvQkkGXHJv6a",
        "outputId": "ab12286d-b593-464d-8630-d00b1de16f22"
      },
      "execution_count": null,
      "outputs": [
        {
          "output_type": "execute_result",
          "data": {
            "text/plain": [
              "True"
            ]
          },
          "metadata": {},
          "execution_count": 56
        }
      ]
    },
    {
      "cell_type": "code",
      "source": [
        "False"
      ],
      "metadata": {
        "colab": {
          "base_uri": "https://localhost:8080/"
        },
        "id": "o4mqGF5CJ3NS",
        "outputId": "28cd497f-ff2d-4e22-aa72-3da8b840aeee"
      },
      "execution_count": null,
      "outputs": [
        {
          "output_type": "execute_result",
          "data": {
            "text/plain": [
              "False"
            ]
          },
          "metadata": {},
          "execution_count": 57
        }
      ]
    },
    {
      "cell_type": "code",
      "source": [
        "type(True)"
      ],
      "metadata": {
        "colab": {
          "base_uri": "https://localhost:8080/"
        },
        "id": "8z2iCY_HJ5Pb",
        "outputId": "1bfc1c1e-076e-4d22-9e37-f3a38b8e9370"
      },
      "execution_count": null,
      "outputs": [
        {
          "output_type": "execute_result",
          "data": {
            "text/plain": [
              "bool"
            ]
          },
          "metadata": {},
          "execution_count": 58
        }
      ]
    },
    {
      "cell_type": "code",
      "source": [
        "b = True\n",
        "type(b)"
      ],
      "metadata": {
        "colab": {
          "base_uri": "https://localhost:8080/"
        },
        "id": "dH19k7cCJ8VS",
        "outputId": "2ad8b2da-dc06-46f4-e7cf-c84289298f06"
      },
      "execution_count": null,
      "outputs": [
        {
          "output_type": "execute_result",
          "data": {
            "text/plain": [
              "bool"
            ]
          },
          "metadata": {},
          "execution_count": 60
        }
      ]
    },
    {
      "cell_type": "code",
      "source": [
        "#comparison Operators\n",
        "0>3"
      ],
      "metadata": {
        "colab": {
          "base_uri": "https://localhost:8080/"
        },
        "id": "FLTHse9nKBwj",
        "outputId": "91e1a1a6-f096-4b97-f45e-9b6ffd21667e"
      },
      "execution_count": null,
      "outputs": [
        {
          "output_type": "execute_result",
          "data": {
            "text/plain": [
              "False"
            ]
          },
          "metadata": {},
          "execution_count": 62
        }
      ]
    },
    {
      "cell_type": "code",
      "source": [
        "3>1"
      ],
      "metadata": {
        "colab": {
          "base_uri": "https://localhost:8080/"
        },
        "id": "VJlH45GsKJEb",
        "outputId": "d97ab521-13f8-425d-89bc-83f669984436"
      },
      "execution_count": null,
      "outputs": [
        {
          "output_type": "execute_result",
          "data": {
            "text/plain": [
              "True"
            ]
          },
          "metadata": {},
          "execution_count": 63
        }
      ]
    },
    {
      "cell_type": "code",
      "source": [
        "condit = 3==1\n",
        "condit"
      ],
      "metadata": {
        "colab": {
          "base_uri": "https://localhost:8080/"
        },
        "id": "MNbj371dKNhq",
        "outputId": "e22d581b-d1ea-4b6b-9384-151a3e009eb1"
      },
      "execution_count": null,
      "outputs": [
        {
          "output_type": "execute_result",
          "data": {
            "text/plain": [
              "False"
            ]
          },
          "metadata": {},
          "execution_count": 66
        }
      ]
    },
    {
      "cell_type": "code",
      "source": [],
      "metadata": {
        "id": "FyurH8QNKkYr"
      },
      "execution_count": null,
      "outputs": []
    },
    {
      "cell_type": "markdown",
      "source": [
        "### Sets"
      ],
      "metadata": {
        "id": "qJyjeYx01j4b"
      }
    },
    {
      "cell_type": "code",
      "source": [
        "s = {1,2,3}\n",
        "s"
      ],
      "metadata": {
        "colab": {
          "base_uri": "https://localhost:8080/"
        },
        "id": "iGb2jEX1KmLr",
        "outputId": "c583c8e0-75d5-4cd6-ecde-14ae93993e42"
      },
      "execution_count": null,
      "outputs": [
        {
          "output_type": "execute_result",
          "data": {
            "text/plain": [
              "{1, 2, 3}"
            ]
          },
          "metadata": {},
          "execution_count": 68
        }
      ]
    },
    {
      "cell_type": "code",
      "source": [
        "type(s)"
      ],
      "metadata": {
        "colab": {
          "base_uri": "https://localhost:8080/"
        },
        "id": "I71SMyxoKqer",
        "outputId": "0e9adf41-d670-4931-c9c8-423994fdc6d3"
      },
      "execution_count": null,
      "outputs": [
        {
          "output_type": "execute_result",
          "data": {
            "text/plain": [
              "set"
            ]
          },
          "metadata": {},
          "execution_count": 69
        }
      ]
    },
    {
      "cell_type": "code",
      "source": [
        "s = {1,2,3,'hi', False}\n",
        "s"
      ],
      "metadata": {
        "colab": {
          "base_uri": "https://localhost:8080/"
        },
        "id": "sn1BGF0lLMY0",
        "outputId": "5ca6d37f-1733-43a0-a1f3-b10b45a66b58"
      },
      "execution_count": null,
      "outputs": [
        {
          "output_type": "execute_result",
          "data": {
            "text/plain": [
              "{1, 2, 3, False, 'hi'}"
            ]
          },
          "metadata": {},
          "execution_count": 75
        }
      ]
    },
    {
      "cell_type": "code",
      "source": [
        "s = {2,3,'hi', True}\n",
        "s"
      ],
      "metadata": {
        "colab": {
          "base_uri": "https://localhost:8080/"
        },
        "id": "STbRF_JiKvPT",
        "outputId": "e9ee913c-0dd1-446b-d5cf-71a77520c32a"
      },
      "execution_count": null,
      "outputs": [
        {
          "output_type": "execute_result",
          "data": {
            "text/plain": [
              "{2, 3, True, 'hi'}"
            ]
          },
          "metadata": {},
          "execution_count": 73
        }
      ]
    },
    {
      "cell_type": "code",
      "source": [
        "l = [1,False, 0, True, 0]\n",
        "l"
      ],
      "metadata": {
        "colab": {
          "base_uri": "https://localhost:8080/"
        },
        "id": "C5oUtAaCLYgT",
        "outputId": "b7184ab9-cbf7-420b-df49-5db42bc04845"
      },
      "execution_count": null,
      "outputs": [
        {
          "output_type": "execute_result",
          "data": {
            "text/plain": [
              "[1, False, 0, True, 0]"
            ]
          },
          "metadata": {},
          "execution_count": 81
        }
      ]
    },
    {
      "cell_type": "code",
      "source": [
        "s = {1,False, 0, True, 1}\n",
        "s"
      ],
      "metadata": {
        "colab": {
          "base_uri": "https://localhost:8080/"
        },
        "id": "3_RnxT_fLgLk",
        "outputId": "47caab83-13a6-435d-d919-3587f51d8de2"
      },
      "execution_count": null,
      "outputs": [
        {
          "output_type": "execute_result",
          "data": {
            "text/plain": [
              "{False, 1}"
            ]
          },
          "metadata": {},
          "execution_count": 80
        }
      ]
    },
    {
      "cell_type": "markdown",
      "source": [
        "### Dictionaies\n"
      ],
      "metadata": {
        "id": "kRtwFscS1oyN"
      }
    },
    {
      "cell_type": "code",
      "source": [
        "# Dictionary\n",
        "s = {'item1','item2'}\n",
        "d = {'key1':'item1','key2':'item2'}\n",
        "d\n",
        "# dictionary has keys, each key has items\n",
        "# this keys don't retain any order -- list has order"
      ],
      "metadata": {
        "id": "TV3id1IjfxL3",
        "colab": {
          "base_uri": "https://localhost:8080/"
        },
        "outputId": "232c630d-13f5-4527-c667-2adfa2c86013"
      },
      "execution_count": null,
      "outputs": [
        {
          "output_type": "execute_result",
          "data": {
            "text/plain": [
              "{'key1': 'item1', 'key2': 'item2'}"
            ]
          },
          "metadata": {},
          "execution_count": 83
        }
      ]
    },
    {
      "cell_type": "code",
      "source": [
        "d = {'student1':20,'student2':[19,'major'], 'student3':[19,'major','home']}\n",
        "d"
      ],
      "metadata": {
        "colab": {
          "base_uri": "https://localhost:8080/"
        },
        "id": "Sot7WR88MVsH",
        "outputId": "2354a7b2-06c7-45eb-a1ca-5334e595eb25"
      },
      "execution_count": null,
      "outputs": [
        {
          "output_type": "execute_result",
          "data": {
            "text/plain": [
              "{'student1': 20, 'student2': [19, 'major'], 'student3': [19, 'major', 'home']}"
            ]
          },
          "metadata": {},
          "execution_count": 87
        }
      ]
    },
    {
      "cell_type": "code",
      "source": [
        "d['student3']"
      ],
      "metadata": {
        "colab": {
          "base_uri": "https://localhost:8080/"
        },
        "id": "MO-x6FZ3M9Ug",
        "outputId": "316e7afe-faac-4713-f056-0442e136afa0"
      },
      "execution_count": null,
      "outputs": [
        {
          "output_type": "execute_result",
          "data": {
            "text/plain": [
              "[19, 'major', 'home']"
            ]
          },
          "metadata": {},
          "execution_count": 88
        }
      ]
    },
    {
      "cell_type": "code",
      "source": [
        "d = {'student1':20, 'student3':[19,'major','home'],'student2':[19,'major']}\n",
        "d"
      ],
      "metadata": {
        "colab": {
          "base_uri": "https://localhost:8080/"
        },
        "id": "WQoKUSiGNIKs",
        "outputId": "258f5dc9-9ed2-46eb-a233-c5b787ee40e6"
      },
      "execution_count": null,
      "outputs": [
        {
          "output_type": "execute_result",
          "data": {
            "text/plain": [
              "{'student1': 20, 'student3': [19, 'major', 'home'], 'student2': [19, 'major']}"
            ]
          },
          "metadata": {},
          "execution_count": 89
        }
      ]
    },
    {
      "cell_type": "code",
      "source": [
        "d['student3']"
      ],
      "metadata": {
        "colab": {
          "base_uri": "https://localhost:8080/"
        },
        "id": "WHqKVxGUNNRO",
        "outputId": "12dbd518-ec55-45a5-af41-1c62138d514f"
      },
      "execution_count": null,
      "outputs": [
        {
          "output_type": "execute_result",
          "data": {
            "text/plain": [
              "[19, 'major', 'home']"
            ]
          },
          "metadata": {},
          "execution_count": 90
        }
      ]
    },
    {
      "cell_type": "code",
      "source": [
        "d['student1'] = [20,'x_majoe','sa']"
      ],
      "metadata": {
        "id": "CFtKs0KpNWdn"
      },
      "execution_count": null,
      "outputs": []
    },
    {
      "cell_type": "code",
      "source": [
        "d"
      ],
      "metadata": {
        "colab": {
          "base_uri": "https://localhost:8080/"
        },
        "id": "-u26DnWKNiWZ",
        "outputId": "7f22cfc2-f3d3-4e19-b426-e06966466b4f"
      },
      "execution_count": null,
      "outputs": [
        {
          "output_type": "execute_result",
          "data": {
            "text/plain": [
              "{'student1': [20, 'x_majoe', 'sa'],\n",
              " 'student3': [19, 'major', 'home'],\n",
              " 'student2': [19, 'major']}"
            ]
          },
          "metadata": {},
          "execution_count": 93
        }
      ]
    },
    {
      "cell_type": "markdown",
      "source": [
        "## Control Flows"
      ],
      "metadata": {
        "id": "fonJKrGR5nMp"
      }
    },
    {
      "cell_type": "markdown",
      "source": [
        "### if, elif, else statement"
      ],
      "metadata": {
        "id": "pnVvR1UgOrXe"
      }
    },
    {
      "cell_type": "code",
      "source": [
        "if True:\n",
        "  print('The condition is True')"
      ],
      "metadata": {
        "colab": {
          "base_uri": "https://localhost:8080/"
        },
        "id": "8wGOK3FAOqtg",
        "outputId": "9bb5b461-d65f-4029-f981-a11a731bfa72"
      },
      "execution_count": null,
      "outputs": [
        {
          "output_type": "stream",
          "name": "stdout",
          "text": [
            "The condition is True\n"
          ]
        }
      ]
    },
    {
      "cell_type": "code",
      "source": [
        "if False:\n",
        "  print('The condition is True')"
      ],
      "metadata": {
        "id": "u5e_WSz6O6GA"
      },
      "execution_count": null,
      "outputs": []
    },
    {
      "cell_type": "code",
      "source": [
        "if 3>2:\n",
        "  print('The condition is True')"
      ],
      "metadata": {
        "colab": {
          "base_uri": "https://localhost:8080/"
        },
        "id": "HcFVnxGdO974",
        "outputId": "f50de488-9ce4-4cda-88a4-e3d9977c9a1b"
      },
      "execution_count": null,
      "outputs": [
        {
          "output_type": "stream",
          "name": "stdout",
          "text": [
            "The condition is True\n"
          ]
        }
      ]
    },
    {
      "cell_type": "code",
      "source": [
        "if 2>3:\n",
        "  print('The condition is True')"
      ],
      "metadata": {
        "id": "FNhAMJCbPD0I"
      },
      "execution_count": null,
      "outputs": []
    },
    {
      "cell_type": "code",
      "source": [
        "if 2>3:\n",
        "  print('The condition is True')\n",
        "else:\n",
        "  print('The condition is False')\n"
      ],
      "metadata": {
        "colab": {
          "base_uri": "https://localhost:8080/"
        },
        "id": "TksxdWh2PHvP",
        "outputId": "8b06f676-b265-46ce-9e65-fc5df44f198c"
      },
      "execution_count": null,
      "outputs": [
        {
          "output_type": "stream",
          "name": "stdout",
          "text": [
            "The condition is False\n"
          ]
        }
      ]
    },
    {
      "cell_type": "code",
      "source": [
        "if True:\n",
        "  print('The condition is True')\n",
        "else:\n",
        "  print('The condition is False')"
      ],
      "metadata": {
        "colab": {
          "base_uri": "https://localhost:8080/"
        },
        "id": "6mvT8FQ7PS2G",
        "outputId": "9fa10c0c-6bfb-47f6-f536-b664b0c6888a"
      },
      "execution_count": null,
      "outputs": [
        {
          "output_type": "stream",
          "name": "stdout",
          "text": [
            "The condition is True\n"
          ]
        }
      ]
    },
    {
      "cell_type": "code",
      "source": [
        "# we can add more conditions using elif\n",
        "if 3<2:\n",
        "  print('The first condition is True')\n",
        "elif 4<2:\n",
        "  print('The second condition is True')\n",
        "else:\n",
        "  print('No conditions are True')"
      ],
      "metadata": {
        "colab": {
          "base_uri": "https://localhost:8080/"
        },
        "id": "1BcqTX8ZPWdv",
        "outputId": "459b7e3d-107a-4855-83f6-ace86fd9a85a"
      },
      "execution_count": null,
      "outputs": [
        {
          "output_type": "stream",
          "name": "stdout",
          "text": [
            "No conditions are True\n"
          ]
        }
      ]
    },
    {
      "cell_type": "code",
      "source": [
        "# we can add more conditions using elif\n",
        "if 3<2:\n",
        "  print('The first condition is True')\n",
        "elif 1<2:\n",
        "  print('The second condition is True')\n",
        "else:\n",
        "  print('No conditions are True')"
      ],
      "metadata": {
        "colab": {
          "base_uri": "https://localhost:8080/"
        },
        "id": "Zyv1YyZNP03A",
        "outputId": "95a1c7f2-e9ef-42a3-ef2b-6b76603bf665"
      },
      "execution_count": null,
      "outputs": [
        {
          "output_type": "stream",
          "name": "stdout",
          "text": [
            "The second condition is True\n"
          ]
        }
      ]
    },
    {
      "cell_type": "code",
      "source": [
        "# how many elif conditions we can use\n"
      ],
      "metadata": {
        "id": "PRfDRDw2P71f"
      },
      "execution_count": null,
      "outputs": []
    },
    {
      "cell_type": "markdown",
      "source": [
        "### Loop"
      ],
      "metadata": {
        "id": "pxeOx46lS1gi"
      }
    },
    {
      "cell_type": "markdown",
      "source": [
        "#### for"
      ],
      "metadata": {
        "id": "yiHzCaJxS4vi"
      }
    },
    {
      "cell_type": "code",
      "source": [
        "# can you print 1-10 using a for loop\n",
        "for item in range(1,11):\n",
        "  print(item)"
      ],
      "metadata": {
        "colab": {
          "base_uri": "https://localhost:8080/"
        },
        "id": "orZLvuq8TBKI",
        "outputId": "30ea30de-04be-427d-a301-42850cec7093"
      },
      "execution_count": null,
      "outputs": [
        {
          "output_type": "stream",
          "name": "stdout",
          "text": [
            "1\n",
            "2\n",
            "3\n",
            "4\n",
            "5\n",
            "6\n",
            "7\n",
            "8\n",
            "9\n",
            "10\n"
          ]
        }
      ]
    },
    {
      "cell_type": "markdown",
      "source": [
        "#### while"
      ],
      "metadata": {
        "id": "kMohd1WrUM0_"
      }
    },
    {
      "cell_type": "code",
      "source": [
        "index = 1\n",
        "while index < 11:\n",
        "  print('the condition is true')\n",
        "  index +=1 #index = index + 1\n"
      ],
      "metadata": {
        "colab": {
          "base_uri": "https://localhost:8080/"
        },
        "id": "vpvG3EvDULDz",
        "outputId": "f2abc60c-f978-4e9b-84c7-8c466ad0990a"
      },
      "execution_count": null,
      "outputs": [
        {
          "output_type": "stream",
          "name": "stdout",
          "text": [
            "the condition is true\n",
            "the condition is true\n",
            "the condition is true\n",
            "the condition is true\n",
            "the condition is true\n",
            "the condition is true\n",
            "the condition is true\n",
            "the condition is true\n",
            "the condition is true\n",
            "the condition is true\n"
          ]
        }
      ]
    },
    {
      "cell_type": "code",
      "source": [
        "condition = True\n",
        "while condition:\n",
        "  print('the condition is true')\n",
        "  condition = False"
      ],
      "metadata": {
        "colab": {
          "base_uri": "https://localhost:8080/"
        },
        "id": "l_ZCvhHaU7hz",
        "outputId": "aeaf3ca9-42d1-447a-b89e-05da6b1c7659"
      },
      "execution_count": null,
      "outputs": [
        {
          "output_type": "stream",
          "name": "stdout",
          "text": [
            "the condition is true\n"
          ]
        }
      ]
    },
    {
      "cell_type": "markdown",
      "source": [
        "## Some useful functions"
      ],
      "metadata": {
        "id": "b67KoOa76bcC"
      }
    },
    {
      "cell_type": "markdown",
      "source": [
        "### range()"
      ],
      "metadata": {
        "id": "E2GThwiM6fFf"
      }
    },
    {
      "cell_type": "code",
      "source": [
        "for item in range(1,11):\n",
        "  print(item)"
      ],
      "metadata": {
        "colab": {
          "base_uri": "https://localhost:8080/"
        },
        "id": "EC1nl0zxVX_F",
        "outputId": "ec0f4b40-0f12-4215-c23d-8730d0dacd05"
      },
      "execution_count": null,
      "outputs": [
        {
          "output_type": "stream",
          "name": "stdout",
          "text": [
            "1\n",
            "2\n",
            "3\n",
            "4\n",
            "5\n",
            "6\n",
            "7\n",
            "8\n",
            "9\n",
            "10\n"
          ]
        }
      ]
    },
    {
      "cell_type": "code",
      "source": [
        "for item in range(3):\n",
        "  print(item)\n",
        "# range(0,3)"
      ],
      "metadata": {
        "colab": {
          "base_uri": "https://localhost:8080/"
        },
        "id": "a0Cx4Pk_VmX7",
        "outputId": "4867e307-f463-4876-bd96-ea3ec0515385"
      },
      "execution_count": null,
      "outputs": [
        {
          "output_type": "stream",
          "name": "stdout",
          "text": [
            "0\n",
            "1\n",
            "2\n"
          ]
        }
      ]
    },
    {
      "cell_type": "code",
      "source": [
        "# make a list of integers from 0-10\n",
        "[item for item in range(11)]"
      ],
      "metadata": {
        "colab": {
          "base_uri": "https://localhost:8080/"
        },
        "id": "8T6mjCXzVzAr",
        "outputId": "7f22094b-311e-4d5d-e8ae-4fe7356e34ff"
      },
      "execution_count": null,
      "outputs": [
        {
          "output_type": "execute_result",
          "data": {
            "text/plain": [
              "[0, 1, 2, 3, 4, 5, 6, 7, 8, 9, 10]"
            ]
          },
          "metadata": {},
          "execution_count": 13
        }
      ]
    },
    {
      "cell_type": "code",
      "source": [
        "list(range(11))"
      ],
      "metadata": {
        "colab": {
          "base_uri": "https://localhost:8080/"
        },
        "id": "2sYV6jg8V8e8",
        "outputId": "df4b61f9-bc18-4778-bc56-2c1d0abcef72"
      },
      "execution_count": null,
      "outputs": [
        {
          "output_type": "execute_result",
          "data": {
            "text/plain": [
              "[0, 1, 2, 3, 4, 5, 6, 7, 8, 9, 10]"
            ]
          },
          "metadata": {},
          "execution_count": 14
        }
      ]
    },
    {
      "cell_type": "markdown",
      "source": [
        "### len()"
      ],
      "metadata": {
        "id": "oWj51XPM65_4"
      }
    },
    {
      "cell_type": "code",
      "source": [
        "#len() -- length\n",
        "l = list(range(11))\n",
        "l"
      ],
      "metadata": {
        "colab": {
          "base_uri": "https://localhost:8080/"
        },
        "id": "fPyEVbSpWQxF",
        "outputId": "1c966aef-c6e3-4157-8f90-417a9440889e"
      },
      "execution_count": null,
      "outputs": [
        {
          "output_type": "execute_result",
          "data": {
            "text/plain": [
              "[0, 1, 2, 3, 4, 5, 6, 7, 8, 9, 10]"
            ]
          },
          "metadata": {},
          "execution_count": 15
        }
      ]
    },
    {
      "cell_type": "code",
      "source": [
        "len(l)"
      ],
      "metadata": {
        "colab": {
          "base_uri": "https://localhost:8080/"
        },
        "id": "o6WrdcNzWZOc",
        "outputId": "70260522-38bb-48d0-b2bb-be221f162922"
      },
      "execution_count": null,
      "outputs": [
        {
          "output_type": "execute_result",
          "data": {
            "text/plain": [
              "11"
            ]
          },
          "metadata": {},
          "execution_count": 16
        }
      ]
    },
    {
      "cell_type": "code",
      "source": [
        "type(l)"
      ],
      "metadata": {
        "colab": {
          "base_uri": "https://localhost:8080/"
        },
        "id": "Wkr2sRBlWnAF",
        "outputId": "89bd1f68-4965-430e-de8f-68ee9249df59"
      },
      "execution_count": null,
      "outputs": [
        {
          "output_type": "execute_result",
          "data": {
            "text/plain": [
              "list"
            ]
          },
          "metadata": {},
          "execution_count": 17
        }
      ]
    },
    {
      "cell_type": "markdown",
      "source": [
        "### add_your_own()"
      ],
      "metadata": {
        "id": "cwS6qA656_8F"
      }
    },
    {
      "cell_type": "code",
      "source": [
        "a= 10\n",
        "a"
      ],
      "metadata": {
        "colab": {
          "base_uri": "https://localhost:8080/"
        },
        "id": "mzjmoDFXWw0N",
        "outputId": "b7b0050c-d1a0-4cad-9d05-83e5ee7b19a9"
      },
      "execution_count": null,
      "outputs": [
        {
          "output_type": "execute_result",
          "data": {
            "text/plain": [
              "10"
            ]
          },
          "metadata": {},
          "execution_count": 21
        }
      ]
    },
    {
      "cell_type": "code",
      "source": [
        "type(a)"
      ],
      "metadata": {
        "colab": {
          "base_uri": "https://localhost:8080/"
        },
        "id": "_b91jHJIXCTu",
        "outputId": "3a492610-d33a-4807-d8e5-08e64035e48f"
      },
      "execution_count": null,
      "outputs": [
        {
          "output_type": "execute_result",
          "data": {
            "text/plain": [
              "int"
            ]
          },
          "metadata": {},
          "execution_count": 19
        }
      ]
    },
    {
      "cell_type": "code",
      "source": [
        "a = str('0010')\n",
        "a"
      ],
      "metadata": {
        "colab": {
          "base_uri": "https://localhost:8080/",
          "height": 35
        },
        "id": "5d7tYXQsXE-F",
        "outputId": "3765c498-7e5b-4c67-8ef1-b81defb967f9"
      },
      "execution_count": null,
      "outputs": [
        {
          "output_type": "execute_result",
          "data": {
            "text/plain": [
              "'0010'"
            ],
            "application/vnd.google.colaboratory.intrinsic+json": {
              "type": "string"
            }
          },
          "metadata": {},
          "execution_count": 24
        }
      ]
    },
    {
      "cell_type": "code",
      "source": [],
      "metadata": {
        "id": "Y4mqaYrGXfu2"
      },
      "execution_count": null,
      "outputs": []
    },
    {
      "cell_type": "markdown",
      "source": [
        "## Creating a function"
      ],
      "metadata": {
        "id": "-hp8GqMf7YVI"
      }
    },
    {
      "cell_type": "code",
      "source": [
        "def name_of_the_function(input_parameter):\n",
        "  '''\n",
        "  body\n",
        "  '''\n",
        "  return print(input_parameter)\n"
      ],
      "metadata": {
        "id": "sEwEq3tgXiKU"
      },
      "execution_count": null,
      "outputs": []
    },
    {
      "cell_type": "code",
      "source": [
        "name_of_the_function()"
      ],
      "metadata": {
        "colab": {
          "base_uri": "https://localhost:8080/",
          "height": 176
        },
        "id": "eI94c9I8X3dN",
        "outputId": "798fe88f-1aa7-4856-9d58-798c6b7addb7"
      },
      "execution_count": null,
      "outputs": [
        {
          "output_type": "error",
          "ename": "TypeError",
          "evalue": "name_of_the_function() missing 1 required positional argument: 'input_parameter'",
          "traceback": [
            "\u001b[0;31m---------------------------------------------------------------------------\u001b[0m",
            "\u001b[0;31mTypeError\u001b[0m                                 Traceback (most recent call last)",
            "\u001b[0;32m<ipython-input-28-952900ccd731>\u001b[0m in \u001b[0;36m<cell line: 1>\u001b[0;34m()\u001b[0m\n\u001b[0;32m----> 1\u001b[0;31m \u001b[0mname_of_the_function\u001b[0m\u001b[0;34m(\u001b[0m\u001b[0;34m)\u001b[0m\u001b[0;34m\u001b[0m\u001b[0;34m\u001b[0m\u001b[0m\n\u001b[0m",
            "\u001b[0;31mTypeError\u001b[0m: name_of_the_function() missing 1 required positional argument: 'input_parameter'"
          ]
        }
      ]
    },
    {
      "cell_type": "code",
      "source": [
        "name_of_the_function(10)"
      ],
      "metadata": {
        "colab": {
          "base_uri": "https://localhost:8080/"
        },
        "id": "Mlyt-VLAYK7t",
        "outputId": "6014eaf1-8122-4e2f-b90b-b2c8113f63c6"
      },
      "execution_count": null,
      "outputs": [
        {
          "output_type": "stream",
          "name": "stdout",
          "text": [
            "10\n"
          ]
        }
      ]
    },
    {
      "cell_type": "code",
      "source": [
        "def fun_add(a,b):\n",
        "  sum = a+b\n",
        "  return sum"
      ],
      "metadata": {
        "id": "38ld-9kLYU-1"
      },
      "execution_count": null,
      "outputs": []
    },
    {
      "cell_type": "code",
      "source": [
        "fun_add(10,29)\n",
        "fun_add(10.1,29.5)\n",
        "fun_add('first name',' last name')"
      ],
      "metadata": {
        "colab": {
          "base_uri": "https://localhost:8080/",
          "height": 35
        },
        "id": "gGADYMi2YjgF",
        "outputId": "c8c2b0e9-5573-49be-dd7b-738facccea16"
      },
      "execution_count": null,
      "outputs": [
        {
          "output_type": "execute_result",
          "data": {
            "text/plain": [
              "'first name last name'"
            ],
            "application/vnd.google.colaboratory.intrinsic+json": {
              "type": "string"
            }
          },
          "metadata": {},
          "execution_count": 36
        }
      ]
    },
    {
      "cell_type": "code",
      "source": [
        "# make a function that will take a value and retrun 3 times of it's value\n",
        "def times3(value):\n",
        "  return value*3"
      ],
      "metadata": {
        "id": "5_nVeHzAY1DV"
      },
      "execution_count": null,
      "outputs": []
    },
    {
      "cell_type": "code",
      "source": [
        "times3(100)"
      ],
      "metadata": {
        "colab": {
          "base_uri": "https://localhost:8080/"
        },
        "id": "h6Kbw3kiZ07g",
        "outputId": "80d8deca-de08-41f0-9cf8-c01f20437360"
      },
      "execution_count": null,
      "outputs": [
        {
          "output_type": "execute_result",
          "data": {
            "text/plain": [
              "300"
            ]
          },
          "metadata": {},
          "execution_count": 39
        }
      ]
    },
    {
      "cell_type": "markdown",
      "source": [
        "#lambda expression"
      ],
      "metadata": {
        "id": "KjP1jjWl7evL"
      }
    },
    {
      "cell_type": "code",
      "source": [
        "#shortest function\n",
        "times3 = lambda value: value*3"
      ],
      "metadata": {
        "id": "dPaaP-Hl7doD"
      },
      "execution_count": null,
      "outputs": []
    },
    {
      "cell_type": "code",
      "source": [
        "times3(3)"
      ],
      "metadata": {
        "colab": {
          "base_uri": "https://localhost:8080/"
        },
        "id": "xHwB3vwhauk-",
        "outputId": "0380159d-0a88-45fc-c6a6-b630db978d1b"
      },
      "execution_count": null,
      "outputs": [
        {
          "output_type": "execute_result",
          "data": {
            "text/plain": [
              "9"
            ]
          },
          "metadata": {},
          "execution_count": 42
        }
      ]
    },
    {
      "cell_type": "code",
      "source": [
        "add = lambda a,b : a+b"
      ],
      "metadata": {
        "id": "5-5DNiWfbATX"
      },
      "execution_count": null,
      "outputs": []
    },
    {
      "cell_type": "code",
      "source": [
        "add(3,10)"
      ],
      "metadata": {
        "colab": {
          "base_uri": "https://localhost:8080/"
        },
        "id": "062CEo3WbVT4",
        "outputId": "98372b9b-be3f-4578-de35-9d2f7912b875"
      },
      "execution_count": null,
      "outputs": [
        {
          "output_type": "execute_result",
          "data": {
            "text/plain": [
              "13"
            ]
          },
          "metadata": {},
          "execution_count": 44
        }
      ]
    },
    {
      "cell_type": "markdown",
      "source": [
        "func_name = lambda parameters : expression"
      ],
      "metadata": {
        "id": "smz_xDPXbjXn"
      }
    },
    {
      "cell_type": "code",
      "source": [],
      "metadata": {
        "id": "a_xY1YiGbuV5"
      },
      "execution_count": null,
      "outputs": []
    },
    {
      "cell_type": "markdown",
      "source": [
        "# String Manipulation and Regular Expressions"
      ],
      "metadata": {
        "id": "SjHDfH_0b5Cx"
      }
    },
    {
      "cell_type": "markdown",
      "source": [
        "https://jakevdp.github.io/WhirlwindTourOfPython/14-strings-and-regular-expressions.html"
      ],
      "metadata": {
        "id": "DmZxEQnncCpQ"
      }
    },
    {
      "cell_type": "code",
      "source": [
        "x = 'a string'\n",
        "y = \"a string\""
      ],
      "metadata": {
        "id": "_Cv8TEsdb_ew"
      },
      "execution_count": null,
      "outputs": []
    },
    {
      "cell_type": "code",
      "source": [
        "x == y"
      ],
      "metadata": {
        "colab": {
          "base_uri": "https://localhost:8080/"
        },
        "id": "B8NVqHWbb_bw",
        "outputId": "d0680cd4-8124-456d-a05d-763e6d44a716"
      },
      "execution_count": null,
      "outputs": [
        {
          "output_type": "execute_result",
          "data": {
            "text/plain": [
              "True"
            ]
          },
          "metadata": {},
          "execution_count": 46
        }
      ]
    },
    {
      "cell_type": "code",
      "source": [
        "multipline_str = \"\"\"\n",
        "line1\n",
        "line2\n",
        "line3\n",
        "\"\"\""
      ],
      "metadata": {
        "id": "B_eh78Vhb_Yo"
      },
      "execution_count": null,
      "outputs": []
    },
    {
      "cell_type": "code",
      "source": [
        "multipline_str = '''\n",
        "line1\n",
        "line2\n",
        "line3\n",
        "'''"
      ],
      "metadata": {
        "id": "o2kMakv2b_VQ"
      },
      "execution_count": null,
      "outputs": []
    },
    {
      "cell_type": "code",
      "source": [
        "multipline_str"
      ],
      "metadata": {
        "colab": {
          "base_uri": "https://localhost:8080/",
          "height": 35
        },
        "id": "Inc6-MsCc8rN",
        "outputId": "850bc1ea-a735-40eb-ead2-0211e2577a18"
      },
      "execution_count": null,
      "outputs": [
        {
          "output_type": "execute_result",
          "data": {
            "text/plain": [
              "'\\nline1 \\nline2 \\nline3\\n'"
            ],
            "application/vnd.google.colaboratory.intrinsic+json": {
              "type": "string"
            }
          },
          "metadata": {},
          "execution_count": 51
        }
      ]
    },
    {
      "cell_type": "code",
      "source": [
        "print(multipline_str)"
      ],
      "metadata": {
        "colab": {
          "base_uri": "https://localhost:8080/"
        },
        "id": "8uKZeOX7cs2s",
        "outputId": "7f77b4af-e28e-431f-b770-2fd5c5ac6d41"
      },
      "execution_count": null,
      "outputs": [
        {
          "output_type": "stream",
          "name": "stdout",
          "text": [
            "\n",
            "line1 \n",
            "line2 \n",
            "line3\n",
            "\n"
          ]
        }
      ]
    },
    {
      "cell_type": "markdown",
      "source": [
        "# Formatting strings: Adjusting case"
      ],
      "metadata": {
        "id": "w_cR_ntqc-H8"
      }
    },
    {
      "cell_type": "code",
      "source": [
        "fox = \"tHe qUICk bROWn fOx.\""
      ],
      "metadata": {
        "id": "xcjb-_ndcw5Z"
      },
      "execution_count": null,
      "outputs": []
    },
    {
      "cell_type": "code",
      "source": [
        "FOX = fox.upper()\n",
        "FOX"
      ],
      "metadata": {
        "colab": {
          "base_uri": "https://localhost:8080/",
          "height": 35
        },
        "id": "YNSgknh3cwo4",
        "outputId": "65976e62-76eb-45e6-8529-eb60339f9a37"
      },
      "execution_count": null,
      "outputs": [
        {
          "output_type": "execute_result",
          "data": {
            "text/plain": [
              "'THE QUICK BROWN FOX.'"
            ],
            "application/vnd.google.colaboratory.intrinsic+json": {
              "type": "string"
            }
          },
          "metadata": {},
          "execution_count": 56
        }
      ]
    },
    {
      "cell_type": "code",
      "source": [
        "fox"
      ],
      "metadata": {
        "colab": {
          "base_uri": "https://localhost:8080/",
          "height": 35
        },
        "id": "Ca2-G1P5dVuz",
        "outputId": "8ccf8d2d-5527-41b0-9620-626524bdad2f"
      },
      "execution_count": null,
      "outputs": [
        {
          "output_type": "execute_result",
          "data": {
            "text/plain": [
              "'tHe qUICk bROWn fOx.'"
            ],
            "application/vnd.google.colaboratory.intrinsic+json": {
              "type": "string"
            }
          },
          "metadata": {},
          "execution_count": 54
        }
      ]
    },
    {
      "cell_type": "code",
      "source": [
        "FOX"
      ],
      "metadata": {
        "colab": {
          "base_uri": "https://localhost:8080/",
          "height": 35
        },
        "id": "aqsekaLbdenK",
        "outputId": "c4921b38-8373-46a0-a50f-4dbfd30b4186"
      },
      "execution_count": null,
      "outputs": [
        {
          "output_type": "execute_result",
          "data": {
            "text/plain": [
              "'THE QUICK BROWN FOX.'"
            ],
            "application/vnd.google.colaboratory.intrinsic+json": {
              "type": "string"
            }
          },
          "metadata": {},
          "execution_count": 57
        }
      ]
    },
    {
      "cell_type": "code",
      "source": [
        "fox.lower()"
      ],
      "metadata": {
        "colab": {
          "base_uri": "https://localhost:8080/",
          "height": 35
        },
        "id": "aUuG587odhxq",
        "outputId": "f3528d80-7abd-4d31-f5fb-625ba7af6cbc"
      },
      "execution_count": null,
      "outputs": [
        {
          "output_type": "execute_result",
          "data": {
            "text/plain": [
              "'the quick brown fox.'"
            ],
            "application/vnd.google.colaboratory.intrinsic+json": {
              "type": "string"
            }
          },
          "metadata": {},
          "execution_count": 58
        }
      ]
    },
    {
      "cell_type": "markdown",
      "source": [
        "## Adding and removing spaces"
      ],
      "metadata": {
        "id": "quWZHmN0dwhl"
      }
    },
    {
      "cell_type": "markdown",
      "source": [
        "### strip()"
      ],
      "metadata": {
        "id": "a3sfJJc2exri"
      }
    },
    {
      "cell_type": "code",
      "source": [
        "email = '   mdislam@uiwtx.edu   '"
      ],
      "metadata": {
        "id": "0rb475Epd2UK"
      },
      "execution_count": null,
      "outputs": []
    },
    {
      "cell_type": "code",
      "source": [
        "email.strip()"
      ],
      "metadata": {
        "colab": {
          "base_uri": "https://localhost:8080/",
          "height": 35
        },
        "id": "cX4nSYlpd7rp",
        "outputId": "3316de72-b792-4bcd-b864-8b006b894a78"
      },
      "execution_count": null,
      "outputs": [
        {
          "output_type": "execute_result",
          "data": {
            "text/plain": [
              "'mdislam@uiwtx.edu'"
            ],
            "application/vnd.google.colaboratory.intrinsic+json": {
              "type": "string"
            }
          },
          "metadata": {},
          "execution_count": 61
        }
      ]
    },
    {
      "cell_type": "code",
      "source": [
        "email.lstrip()"
      ],
      "metadata": {
        "colab": {
          "base_uri": "https://localhost:8080/",
          "height": 35
        },
        "id": "IW8hq0QgeOL5",
        "outputId": "88137800-0895-49d4-f263-b2dd328da381"
      },
      "execution_count": null,
      "outputs": [
        {
          "output_type": "execute_result",
          "data": {
            "text/plain": [
              "'mdislam@uiwtx.edu   '"
            ],
            "application/vnd.google.colaboratory.intrinsic+json": {
              "type": "string"
            }
          },
          "metadata": {},
          "execution_count": 64
        }
      ]
    },
    {
      "cell_type": "code",
      "source": [
        "email.rstrip()"
      ],
      "metadata": {
        "colab": {
          "base_uri": "https://localhost:8080/",
          "height": 35
        },
        "id": "G7vAnjBneTvq",
        "outputId": "c39c4147-1170-442d-c952-05a47d8decd5"
      },
      "execution_count": null,
      "outputs": [
        {
          "output_type": "execute_result",
          "data": {
            "text/plain": [
              "'   mdislam@uiwtx.edu'"
            ],
            "application/vnd.google.colaboratory.intrinsic+json": {
              "type": "string"
            }
          },
          "metadata": {},
          "execution_count": 65
        }
      ]
    },
    {
      "cell_type": "code",
      "source": [
        "num = '00000012345123'\n",
        "num.strip('0')"
      ],
      "metadata": {
        "colab": {
          "base_uri": "https://localhost:8080/",
          "height": 35
        },
        "id": "u0UJQgR6edLb",
        "outputId": "60ef61ae-a172-4af7-c1ce-ee5b0e853e79"
      },
      "execution_count": null,
      "outputs": [
        {
          "output_type": "execute_result",
          "data": {
            "text/plain": [
              "'12345123'"
            ],
            "application/vnd.google.colaboratory.intrinsic+json": {
              "type": "string"
            }
          },
          "metadata": {},
          "execution_count": 66
        }
      ]
    },
    {
      "cell_type": "markdown",
      "source": [
        "### center(), ljust(), rjust()"
      ],
      "metadata": {
        "id": "0SNFoErwe1HC"
      }
    },
    {
      "cell_type": "code",
      "source": [
        "line = 'this is the content'\n",
        "line"
      ],
      "metadata": {
        "colab": {
          "base_uri": "https://localhost:8080/",
          "height": 35
        },
        "id": "Vz8L6XFwe8Tr",
        "outputId": "4ab51071-457d-45a3-bc92-8e6d85bd0717"
      },
      "execution_count": null,
      "outputs": [
        {
          "output_type": "execute_result",
          "data": {
            "text/plain": [
              "'this is the content'"
            ],
            "application/vnd.google.colaboratory.intrinsic+json": {
              "type": "string"
            }
          },
          "metadata": {},
          "execution_count": 67
        }
      ]
    },
    {
      "cell_type": "code",
      "source": [
        "len(line)"
      ],
      "metadata": {
        "colab": {
          "base_uri": "https://localhost:8080/"
        },
        "id": "UTBWK_MofFtD",
        "outputId": "5c204954-734d-4827-8776-fd593246295a"
      },
      "execution_count": null,
      "outputs": [
        {
          "output_type": "execute_result",
          "data": {
            "text/plain": [
              "19"
            ]
          },
          "metadata": {},
          "execution_count": 68
        }
      ]
    },
    {
      "cell_type": "code",
      "source": [
        "line.center(30)"
      ],
      "metadata": {
        "colab": {
          "base_uri": "https://localhost:8080/",
          "height": 35
        },
        "id": "lD2o29zWfInC",
        "outputId": "c5d2edd2-fff8-44b9-8252-2f604b22ec05"
      },
      "execution_count": null,
      "outputs": [
        {
          "output_type": "execute_result",
          "data": {
            "text/plain": [
              "'     this is the content      '"
            ],
            "application/vnd.google.colaboratory.intrinsic+json": {
              "type": "string"
            }
          },
          "metadata": {},
          "execution_count": 69
        }
      ]
    },
    {
      "cell_type": "code",
      "source": [
        "line.ljust(30)"
      ],
      "metadata": {
        "colab": {
          "base_uri": "https://localhost:8080/",
          "height": 35
        },
        "id": "BJPH_0CjfYIb",
        "outputId": "96ceb1f6-1d2b-4ac5-b686-476a1e32da61"
      },
      "execution_count": null,
      "outputs": [
        {
          "output_type": "execute_result",
          "data": {
            "text/plain": [
              "'this is the content           '"
            ],
            "application/vnd.google.colaboratory.intrinsic+json": {
              "type": "string"
            }
          },
          "metadata": {},
          "execution_count": 70
        }
      ]
    },
    {
      "cell_type": "code",
      "source": [
        "line.rjust(30)"
      ],
      "metadata": {
        "colab": {
          "base_uri": "https://localhost:8080/",
          "height": 35
        },
        "id": "QZpzi1jTflUj",
        "outputId": "768c53f8-10a0-40c8-cce2-6905f41f50fa"
      },
      "execution_count": null,
      "outputs": [
        {
          "output_type": "execute_result",
          "data": {
            "text/plain": [
              "'           this is the content'"
            ],
            "application/vnd.google.colaboratory.intrinsic+json": {
              "type": "string"
            }
          },
          "metadata": {},
          "execution_count": 71
        }
      ]
    },
    {
      "cell_type": "markdown",
      "source": [
        "## Finding and replacing substrings"
      ],
      "metadata": {
        "id": "QFRuvRbLfrca"
      }
    },
    {
      "cell_type": "code",
      "source": [
        "line = 'the quick brown fox jumped over a lazy dog'\n",
        "line"
      ],
      "metadata": {
        "colab": {
          "base_uri": "https://localhost:8080/",
          "height": 35
        },
        "id": "EYi_yX03fxfr",
        "outputId": "47f70a38-7ab0-49eb-e786-c227e58763fa"
      },
      "execution_count": null,
      "outputs": [
        {
          "output_type": "execute_result",
          "data": {
            "text/plain": [
              "'the quick brown fox jumped over a lazy dog'"
            ],
            "application/vnd.google.colaboratory.intrinsic+json": {
              "type": "string"
            }
          },
          "metadata": {},
          "execution_count": 73
        }
      ]
    },
    {
      "cell_type": "code",
      "source": [
        "line.find('dog')"
      ],
      "metadata": {
        "colab": {
          "base_uri": "https://localhost:8080/"
        },
        "id": "9CBN9rMBfxQj",
        "outputId": "514f2f4d-0bf4-40ae-82b5-5b1a606ae495"
      },
      "execution_count": null,
      "outputs": [
        {
          "output_type": "execute_result",
          "data": {
            "text/plain": [
              "39"
            ]
          },
          "metadata": {},
          "execution_count": 74
        }
      ]
    },
    {
      "cell_type": "code",
      "source": [
        "len(line)"
      ],
      "metadata": {
        "colab": {
          "base_uri": "https://localhost:8080/"
        },
        "id": "Ya6Spo4OfxJD",
        "outputId": "8f39f56b-08db-4c8f-f5c6-eb78e1752a75"
      },
      "execution_count": null,
      "outputs": [
        {
          "output_type": "execute_result",
          "data": {
            "text/plain": [
              "42"
            ]
          },
          "metadata": {},
          "execution_count": 75
        }
      ]
    },
    {
      "cell_type": "code",
      "source": [
        "line[39:]"
      ],
      "metadata": {
        "colab": {
          "base_uri": "https://localhost:8080/",
          "height": 35
        },
        "id": "bOWEV_qtfw-7",
        "outputId": "f6566cb0-add0-43f7-f20a-a22ca908853b"
      },
      "execution_count": null,
      "outputs": [
        {
          "output_type": "execute_result",
          "data": {
            "text/plain": [
              "'dog'"
            ],
            "application/vnd.google.colaboratory.intrinsic+json": {
              "type": "string"
            }
          },
          "metadata": {},
          "execution_count": 77
        }
      ]
    },
    {
      "cell_type": "code",
      "source": [
        "line = 'the quick brown fox jumped over a lazy dog'\n",
        "line.find('quick')"
      ],
      "metadata": {
        "colab": {
          "base_uri": "https://localhost:8080/"
        },
        "id": "h3aXLKYEgZLD",
        "outputId": "16cb0143-1f83-47c6-dc6c-f8aa1f302a8d"
      },
      "execution_count": null,
      "outputs": [
        {
          "output_type": "execute_result",
          "data": {
            "text/plain": [
              "4"
            ]
          },
          "metadata": {},
          "execution_count": 80
        }
      ]
    },
    {
      "cell_type": "code",
      "source": [
        "line.index('quick')"
      ],
      "metadata": {
        "colab": {
          "base_uri": "https://localhost:8080/"
        },
        "id": "MYAw-8X1gZHb",
        "outputId": "d2f9a7b1-09d9-4803-f850-14ed0f292aab"
      },
      "execution_count": null,
      "outputs": [
        {
          "output_type": "execute_result",
          "data": {
            "text/plain": [
              "4"
            ]
          },
          "metadata": {},
          "execution_count": 81
        }
      ]
    },
    {
      "cell_type": "code",
      "source": [
        "line.find('cat')"
      ],
      "metadata": {
        "colab": {
          "base_uri": "https://localhost:8080/"
        },
        "id": "aMSzCBXLgZED",
        "outputId": "5a2e0641-29bd-42b7-a9d1-70c38a1bc452"
      },
      "execution_count": null,
      "outputs": [
        {
          "output_type": "execute_result",
          "data": {
            "text/plain": [
              "-1"
            ]
          },
          "metadata": {},
          "execution_count": 82
        }
      ]
    },
    {
      "cell_type": "code",
      "source": [
        "line.index('cat')"
      ],
      "metadata": {
        "colab": {
          "base_uri": "https://localhost:8080/",
          "height": 176
        },
        "id": "oqdRDMvkhCNc",
        "outputId": "ba213ba4-aaa0-4d7b-d55f-236edddcf4df"
      },
      "execution_count": null,
      "outputs": [
        {
          "output_type": "error",
          "ename": "ValueError",
          "evalue": "substring not found",
          "traceback": [
            "\u001b[0;31m---------------------------------------------------------------------------\u001b[0m",
            "\u001b[0;31mValueError\u001b[0m                                Traceback (most recent call last)",
            "\u001b[0;32m<ipython-input-83-543985cf673d>\u001b[0m in \u001b[0;36m<cell line: 1>\u001b[0;34m()\u001b[0m\n\u001b[0;32m----> 1\u001b[0;31m \u001b[0mline\u001b[0m\u001b[0;34m.\u001b[0m\u001b[0mindex\u001b[0m\u001b[0;34m(\u001b[0m\u001b[0;34m'cat'\u001b[0m\u001b[0;34m)\u001b[0m\u001b[0;34m\u001b[0m\u001b[0;34m\u001b[0m\u001b[0m\n\u001b[0m",
            "\u001b[0;31mValueError\u001b[0m: substring not found"
          ]
        }
      ]
    },
    {
      "cell_type": "code",
      "source": [
        "line = 'the quick brown fox jumped over a lazy dog'\n",
        "line.replace('dog','cat')"
      ],
      "metadata": {
        "colab": {
          "base_uri": "https://localhost:8080/",
          "height": 35
        },
        "id": "0enEmwXihQEv",
        "outputId": "3fb85443-5b9e-42ef-dbe9-f5c3663e0624"
      },
      "execution_count": null,
      "outputs": [
        {
          "output_type": "execute_result",
          "data": {
            "text/plain": [
              "'the quick brown fox jumped over a lazy cat'"
            ],
            "application/vnd.google.colaboratory.intrinsic+json": {
              "type": "string"
            }
          },
          "metadata": {},
          "execution_count": 85
        }
      ]
    },
    {
      "cell_type": "code",
      "source": [
        "line = 'the quick brown fox jumped over a lazy dog dog dog'\n",
        "line.replace('dog','cat')"
      ],
      "metadata": {
        "colab": {
          "base_uri": "https://localhost:8080/",
          "height": 35
        },
        "id": "4pgjQ-mVhkRA",
        "outputId": "c5068620-6da8-41c1-ff83-5f3dde314ebc"
      },
      "execution_count": null,
      "outputs": [
        {
          "output_type": "execute_result",
          "data": {
            "text/plain": [
              "'the quick brown fox jumped over a lazy cat cat cat'"
            ],
            "application/vnd.google.colaboratory.intrinsic+json": {
              "type": "string"
            }
          },
          "metadata": {},
          "execution_count": 86
        }
      ]
    },
    {
      "cell_type": "code",
      "source": [
        "line = 'the quick brown fox jumped over a lazy dog dog dog'\n",
        "line.replace('o','i')"
      ],
      "metadata": {
        "colab": {
          "base_uri": "https://localhost:8080/",
          "height": 35
        },
        "id": "40i1eDOkhs1H",
        "outputId": "f60f4c87-1588-447a-cc9d-ae23578bb628"
      },
      "execution_count": null,
      "outputs": [
        {
          "output_type": "execute_result",
          "data": {
            "text/plain": [
              "'the quick briwn fix jumped iver a lazy dig dig dig'"
            ],
            "application/vnd.google.colaboratory.intrinsic+json": {
              "type": "string"
            }
          },
          "metadata": {},
          "execution_count": 87
        }
      ]
    },
    {
      "cell_type": "code",
      "source": [
        "email = 'mdislam@uiwtx.edu'\n",
        "email.split('@')[0]"
      ],
      "metadata": {
        "colab": {
          "base_uri": "https://localhost:8080/",
          "height": 35
        },
        "id": "L-Sv5Wdrh2-W",
        "outputId": "6e6b949f-dea8-4464-eb0e-a05a93d16628"
      },
      "execution_count": null,
      "outputs": [
        {
          "output_type": "execute_result",
          "data": {
            "text/plain": [
              "'mdislam'"
            ],
            "application/vnd.google.colaboratory.intrinsic+json": {
              "type": "string"
            }
          },
          "metadata": {},
          "execution_count": 92
        }
      ]
    },
    {
      "cell_type": "code",
      "source": [
        "multipline_str = '''line1\n",
        "line2\n",
        "line3'''"
      ],
      "metadata": {
        "id": "LDX_s8FCia6t"
      },
      "execution_count": null,
      "outputs": []
    },
    {
      "cell_type": "code",
      "source": [
        "multipline_str"
      ],
      "metadata": {
        "colab": {
          "base_uri": "https://localhost:8080/",
          "height": 35
        },
        "id": "7HtqdoUii4MY",
        "outputId": "f6485864-53f7-49b2-dad1-c6b5c5b88060"
      },
      "execution_count": null,
      "outputs": [
        {
          "output_type": "execute_result",
          "data": {
            "text/plain": [
              "'line1 \\nline2 \\nline3'"
            ],
            "application/vnd.google.colaboratory.intrinsic+json": {
              "type": "string"
            }
          },
          "metadata": {},
          "execution_count": 98
        }
      ]
    },
    {
      "cell_type": "code",
      "source": [
        "multipline_str.splitlines()"
      ],
      "metadata": {
        "colab": {
          "base_uri": "https://localhost:8080/"
        },
        "id": "cOTuxEWFiiEG",
        "outputId": "e2df5794-0800-4a4a-c82f-9d4fd9b27764"
      },
      "execution_count": null,
      "outputs": [
        {
          "output_type": "execute_result",
          "data": {
            "text/plain": [
              "['line1 ', 'line2 ', 'line3']"
            ]
          },
          "metadata": {},
          "execution_count": 97
        }
      ]
    },
    {
      "cell_type": "code",
      "source": [
        "multipline_str.split('\\n')"
      ],
      "metadata": {
        "colab": {
          "base_uri": "https://localhost:8080/"
        },
        "id": "MEarL2k1iwUF",
        "outputId": "0038e99c-5c6e-41f3-8494-781a1b3c6937"
      },
      "execution_count": null,
      "outputs": [
        {
          "output_type": "execute_result",
          "data": {
            "text/plain": [
              "['line1 ', 'line2 ', 'line3']"
            ]
          },
          "metadata": {},
          "execution_count": 99
        }
      ]
    },
    {
      "cell_type": "markdown",
      "source": [
        "output is going be list"
      ],
      "metadata": {
        "id": "MhX0HWn_iPct"
      }
    },
    {
      "cell_type": "markdown",
      "source": [
        "## Format strings"
      ],
      "metadata": {
        "id": "RI2Yz9UkDWPX"
      }
    },
    {
      "cell_type": "code",
      "source": [
        "pi = 22/7\n",
        "pi"
      ],
      "metadata": {
        "colab": {
          "base_uri": "https://localhost:8080/"
        },
        "id": "osjE_nqXDV1n",
        "outputId": "971f7ac6-ada4-4a86-eca7-938677433686"
      },
      "execution_count": null,
      "outputs": [
        {
          "output_type": "execute_result",
          "data": {
            "text/plain": [
              "3.142857142857143"
            ]
          },
          "metadata": {},
          "execution_count": 1
        }
      ]
    },
    {
      "cell_type": "code",
      "source": [
        "\"The value of pi =\", pi"
      ],
      "metadata": {
        "colab": {
          "base_uri": "https://localhost:8080/"
        },
        "id": "MU8RmLfJDn54",
        "outputId": "cf15d10d-ddb6-492c-f121-56da70e8cda9"
      },
      "execution_count": null,
      "outputs": [
        {
          "output_type": "execute_result",
          "data": {
            "text/plain": [
              "('The value of pi =', 3.142857142857143)"
            ]
          },
          "metadata": {},
          "execution_count": 5
        }
      ]
    },
    {
      "cell_type": "code",
      "source": [
        "\"The value of pi = \" + str(pi)"
      ],
      "metadata": {
        "colab": {
          "base_uri": "https://localhost:8080/",
          "height": 35
        },
        "id": "zz46GPKGD0AI",
        "outputId": "e9465a5a-314f-445a-a7d7-d37628eeecb8"
      },
      "execution_count": null,
      "outputs": [
        {
          "output_type": "execute_result",
          "data": {
            "text/plain": [
              "'The value of pi = 3.142857142857143'"
            ],
            "application/vnd.google.colaboratory.intrinsic+json": {
              "type": "string"
            }
          },
          "metadata": {},
          "execution_count": 6
        }
      ]
    },
    {
      "cell_type": "code",
      "source": [
        "\"The value of pi = {}\".format(pi)"
      ],
      "metadata": {
        "colab": {
          "base_uri": "https://localhost:8080/",
          "height": 35
        },
        "id": "E9fniasdDz9X",
        "outputId": "2039606d-64a6-4521-c8c3-db591e24ceb7"
      },
      "execution_count": null,
      "outputs": [
        {
          "output_type": "execute_result",
          "data": {
            "text/plain": [
              "'The value of pi = 3.142857142857143'"
            ],
            "application/vnd.google.colaboratory.intrinsic+json": {
              "type": "string"
            }
          },
          "metadata": {},
          "execution_count": 8
        }
      ]
    },
    {
      "cell_type": "code",
      "source": [
        "\"The value of pi = {pi}\" #raw string"
      ],
      "metadata": {
        "colab": {
          "base_uri": "https://localhost:8080/",
          "height": 35
        },
        "id": "BLDWdVwfDz5Z",
        "outputId": "9c3aab79-1738-4994-e41c-e30f6df25dab"
      },
      "execution_count": null,
      "outputs": [
        {
          "output_type": "execute_result",
          "data": {
            "text/plain": [
              "'The value of pi = {pi}'"
            ],
            "application/vnd.google.colaboratory.intrinsic+json": {
              "type": "string"
            }
          },
          "metadata": {},
          "execution_count": 9
        }
      ]
    },
    {
      "cell_type": "code",
      "source": [
        "r\"The value of pi = {pi}\" #raw string"
      ],
      "metadata": {
        "colab": {
          "base_uri": "https://localhost:8080/",
          "height": 35
        },
        "id": "ohRgJRwNDzwf",
        "outputId": "cf38fca3-7273-4320-e0a2-3b0f637021fd"
      },
      "execution_count": null,
      "outputs": [
        {
          "output_type": "execute_result",
          "data": {
            "text/plain": [
              "'The value of pi = {pi}'"
            ],
            "application/vnd.google.colaboratory.intrinsic+json": {
              "type": "string"
            }
          },
          "metadata": {},
          "execution_count": 10
        }
      ]
    },
    {
      "cell_type": "code",
      "source": [
        "f\"The value of pi = {pi}\"\n",
        "\"The value of pi = {}\".format(pi)"
      ],
      "metadata": {
        "colab": {
          "base_uri": "https://localhost:8080/",
          "height": 35
        },
        "id": "F_Do_euiE67y",
        "outputId": "43c623ef-da39-42fb-ee56-ed8e73c73d9e"
      },
      "execution_count": null,
      "outputs": [
        {
          "output_type": "execute_result",
          "data": {
            "text/plain": [
              "'The value of pi = 3.142857142857143'"
            ],
            "application/vnd.google.colaboratory.intrinsic+json": {
              "type": "string"
            }
          },
          "metadata": {},
          "execution_count": 12
        }
      ]
    },
    {
      "cell_type": "code",
      "source": [
        "\"First Name: {} , Last Name: {}\".format('A','Z')"
      ],
      "metadata": {
        "colab": {
          "base_uri": "https://localhost:8080/",
          "height": 35
        },
        "id": "kg9dke15FWi5",
        "outputId": "7137bd0b-74ca-4a34-d48b-1bc49533f630"
      },
      "execution_count": null,
      "outputs": [
        {
          "output_type": "execute_result",
          "data": {
            "text/plain": [
              "'First Name: A , Last Name: Z'"
            ],
            "application/vnd.google.colaboratory.intrinsic+json": {
              "type": "string"
            }
          },
          "metadata": {},
          "execution_count": 13
        }
      ]
    },
    {
      "cell_type": "code",
      "source": [
        "\"First Name: {0} , Last Name: {1}\".format('A','Z')"
      ],
      "metadata": {
        "colab": {
          "base_uri": "https://localhost:8080/",
          "height": 35
        },
        "id": "oSPa0S3cFWLD",
        "outputId": "4e58e6ab-b5de-4cd2-c810-44635728e6a2"
      },
      "execution_count": null,
      "outputs": [
        {
          "output_type": "execute_result",
          "data": {
            "text/plain": [
              "'First Name: A , Last Name: Z'"
            ],
            "application/vnd.google.colaboratory.intrinsic+json": {
              "type": "string"
            }
          },
          "metadata": {},
          "execution_count": 14
        }
      ]
    },
    {
      "cell_type": "code",
      "source": [
        "\"First Name: {1} , Last Name: {0}\".format('Z','A')"
      ],
      "metadata": {
        "colab": {
          "base_uri": "https://localhost:8080/",
          "height": 35
        },
        "id": "Ky7iCZHKGcOi",
        "outputId": "6dcd206b-05d5-4f00-fdd1-e0e2f2fb76db"
      },
      "execution_count": null,
      "outputs": [
        {
          "output_type": "execute_result",
          "data": {
            "text/plain": [
              "'First Name: A , Last Name: Z'"
            ],
            "application/vnd.google.colaboratory.intrinsic+json": {
              "type": "string"
            }
          },
          "metadata": {},
          "execution_count": 15
        }
      ]
    },
    {
      "cell_type": "code",
      "source": [
        "\"First Name: {first} ,Last Name: {last}\".format(first ='A',last ='Z')"
      ],
      "metadata": {
        "colab": {
          "base_uri": "https://localhost:8080/",
          "height": 35
        },
        "id": "GFwoVt5DGkl6",
        "outputId": "a90ae6eb-2b3e-4193-e964-6e72bcb18e3a"
      },
      "execution_count": null,
      "outputs": [
        {
          "output_type": "execute_result",
          "data": {
            "text/plain": [
              "'First Name: A ,Last Name: Z'"
            ],
            "application/vnd.google.colaboratory.intrinsic+json": {
              "type": "string"
            }
          },
          "metadata": {},
          "execution_count": 18
        }
      ]
    },
    {
      "cell_type": "code",
      "source": [
        "# show the above expression without .format()\n",
        "first ='A'\n",
        "last ='Z'\n",
        "f\"First Name: {first} ,Last Name: {last}\"\n"
      ],
      "metadata": {
        "colab": {
          "base_uri": "https://localhost:8080/",
          "height": 35
        },
        "id": "5RBoa9q_HP9L",
        "outputId": "fdadd672-eb4a-4aa2-d343-bdba8e47e2fd"
      },
      "execution_count": null,
      "outputs": [
        {
          "output_type": "execute_result",
          "data": {
            "text/plain": [
              "'First Name: A ,Last Name: Z'"
            ],
            "application/vnd.google.colaboratory.intrinsic+json": {
              "type": "string"
            }
          },
          "metadata": {},
          "execution_count": 21
        }
      ]
    },
    {
      "cell_type": "code",
      "source": [
        "names = 'Hernandez, Emilio; Huang, Natalie; Kim, Hyunjoon; Ramirez Lopez, Fernanda; Simon, Paloma; Chauchard, Leo'\n",
        "names"
      ],
      "metadata": {
        "colab": {
          "base_uri": "https://localhost:8080/",
          "height": 52
        },
        "id": "vk9rhf-WHPnr",
        "outputId": "528eb866-a5d1-4567-a667-d4953c17dae5"
      },
      "execution_count": null,
      "outputs": [
        {
          "output_type": "execute_result",
          "data": {
            "text/plain": [
              "'Hernandez, Emilio; Huang, Natalie; Kim, Hyunjoon; Ramirez Lopez, Fernanda; Simon, Paloma; Chauchard, Leo'"
            ],
            "application/vnd.google.colaboratory.intrinsic+json": {
              "type": "string"
            }
          },
          "metadata": {},
          "execution_count": 59
        }
      ]
    },
    {
      "cell_type": "code",
      "source": [
        "#hints\n",
        "# type(names)\n",
        "# try any bilut-in string function\n",
        "name_list = names.split(';')\n",
        "name_list\n",
        "number_of_students = len(name_list)\n",
        "for i in range(0,number_of_students):\n",
        "  individual_name = name_list[i].split(',')\n",
        "  # print(individual_name)\n",
        "  last_name = individual_name[0].strip()\n",
        "  first_name = individual_name[1].strip()\n",
        "  # print(i)\n",
        "  # print(first_name)\n",
        "  # print(last_name)\n",
        "  print(f'Student No : {i+1} \\t First Name: {first_name} \\t Last Name: {last_name}')"
      ],
      "metadata": {
        "colab": {
          "base_uri": "https://localhost:8080/"
        },
        "id": "6mgmTup_I26z",
        "outputId": "8fa6f4d2-ff47-455d-92c2-d827a74b70e8"
      },
      "execution_count": null,
      "outputs": [
        {
          "output_type": "stream",
          "name": "stdout",
          "text": [
            "Student No : 1 \t First Name: Emilio \t Last Name: Hernandez\n",
            "Student No : 2 \t First Name: Natalie \t Last Name: Huang\n",
            "Student No : 3 \t First Name: Hyunjoon \t Last Name: Kim\n",
            "Student No : 4 \t First Name: Fernanda \t Last Name: Ramirez Lopez\n",
            "Student No : 5 \t First Name: Paloma \t Last Name: Simon\n",
            "Student No : 6 \t First Name: Leo \t Last Name: Chauchard\n"
          ]
        }
      ]
    },
    {
      "cell_type": "code",
      "source": [
        "#hints\n",
        "# type(names)\n",
        "# try any bilut-in string function\n",
        "name_list = names.split(';')\n",
        "name_list\n",
        "number_of_students = len(name_list)\n",
        "for i in range(0,number_of_students):\n",
        "  individual_name = name_list[i].split(',')\n",
        "  # print(individual_name)\n",
        "  last_name = individual_name[0].strip()\n",
        "  first_name = individual_name[1].strip()\n",
        "  # print(i)\n",
        "  # print(first_name)\n",
        "  # print(last_name)\n",
        "  print(f'Student No : {i+1} \\t First Name: {first_name} \\t Last Name: {last_name[0:3]}')"
      ],
      "metadata": {
        "colab": {
          "base_uri": "https://localhost:8080/"
        },
        "id": "uy3NPv5YO69o",
        "outputId": "1b134078-1e48-4c5f-8432-1cf4c75972ac"
      },
      "execution_count": null,
      "outputs": [
        {
          "output_type": "stream",
          "name": "stdout",
          "text": [
            "Student No : 1 \t First Name: Emilio \t Last Name: Her\n",
            "Student No : 2 \t First Name: Natalie \t Last Name: Hua\n",
            "Student No : 3 \t First Name: Hyunjoon \t Last Name: Kim\n",
            "Student No : 4 \t First Name: Fernanda \t Last Name: Ram\n",
            "Student No : 5 \t First Name: Paloma \t Last Name: Sim\n",
            "Student No : 6 \t First Name: Leo \t Last Name: Cha\n"
          ]
        }
      ]
    },
    {
      "cell_type": "code",
      "source": [
        "#hints\n",
        "# type(names)\n",
        "# try any bilut-in string function\n",
        "name_list = names.split(';')\n",
        "name_list\n",
        "number_of_students = len(name_list)\n",
        "for i in range(0,number_of_students):\n",
        "  individual_name = name_list[i].split(',')\n",
        "  # print(individual_name)\n",
        "  last_name = individual_name[0].strip()\n",
        "  first_name = individual_name[1].strip()\n",
        "  # print(i)\n",
        "  # print(first_name)\n",
        "  # print(last_name)\n",
        "  print(f'Student No : {i+1} \\t First Name: {first_name} \\t Last Name: {last_name[0:3]}')"
      ],
      "metadata": {
        "id": "AO3x8Y-EQCGR"
      },
      "execution_count": null,
      "outputs": []
    },
    {
      "cell_type": "code",
      "source": [
        "#hints\n",
        "# type(names)\n",
        "# try any bilut-in string function\n",
        "name_list = names.split(';')\n",
        "name_list\n",
        "number_of_students = len(name_list)\n",
        "for i in range(0,number_of_students):\n",
        "  individual_name = name_list[i].split(',')\n",
        "  # print(individual_name)\n",
        "  last_name = individual_name[0].strip()\n",
        "  first_name = individual_name[1].strip()\n",
        "  # print(i)\n",
        "  # print(first_name)\n",
        "  # print(last_name)\n",
        "  print(f'Student No : {i+1} \\t First Name: {first_name.upper()} \\t Last Name: {last_name[0:3].upper()}')"
      ],
      "metadata": {
        "colab": {
          "base_uri": "https://localhost:8080/"
        },
        "id": "rrYXEMg3QMxB",
        "outputId": "e5ebf1f3-45a2-44ec-a773-fe8441fc4688"
      },
      "execution_count": null,
      "outputs": [
        {
          "output_type": "stream",
          "name": "stdout",
          "text": [
            "Student No : 1 \t First Name: EMILIO \t Last Name: HER\n",
            "Student No : 2 \t First Name: NATALIE \t Last Name: HUA\n",
            "Student No : 3 \t First Name: HYUNJOON \t Last Name: KIM\n",
            "Student No : 4 \t First Name: FERNANDA \t Last Name: RAM\n",
            "Student No : 5 \t First Name: PALOMA \t Last Name: SIM\n",
            "Student No : 6 \t First Name: LEO \t Last Name: CHA\n"
          ]
        }
      ]
    },
    {
      "cell_type": "code",
      "source": [
        "individual_name = name_list[1].split(',')\n",
        "individual_name\n",
        "last_name = individual_name[0].strip()\n",
        "first_name = individual_name[1].strip()"
      ],
      "metadata": {
        "id": "AizHjZThKtpV"
      },
      "execution_count": null,
      "outputs": []
    },
    {
      "cell_type": "code",
      "source": [
        "pi"
      ],
      "metadata": {
        "colab": {
          "base_uri": "https://localhost:8080/"
        },
        "id": "idTI74rPLRhE",
        "outputId": "15b37115-543d-4e5c-d425-a181e29033a3"
      },
      "execution_count": null,
      "outputs": [
        {
          "output_type": "execute_result",
          "data": {
            "text/plain": [
              "3.142857142857143"
            ]
          },
          "metadata": {},
          "execution_count": 67
        }
      ]
    },
    {
      "cell_type": "code",
      "source": [
        "type(pi)"
      ],
      "metadata": {
        "colab": {
          "base_uri": "https://localhost:8080/"
        },
        "id": "HkC7Cj0sQ_nq",
        "outputId": "f930acc9-5065-41c5-a730-e7af8d075428"
      },
      "execution_count": null,
      "outputs": [
        {
          "output_type": "execute_result",
          "data": {
            "text/plain": [
              "float"
            ]
          },
          "metadata": {},
          "execution_count": 68
        }
      ]
    },
    {
      "cell_type": "code",
      "source": [
        "pi_decimal = str(pi).split('.')[1]"
      ],
      "metadata": {
        "id": "d-ETp7i6RULh"
      },
      "execution_count": null,
      "outputs": []
    },
    {
      "cell_type": "code",
      "source": [
        "str(pi).split('.')[1]"
      ],
      "metadata": {
        "id": "lhez6M1WRe86"
      },
      "execution_count": null,
      "outputs": []
    },
    {
      "cell_type": "code",
      "source": [
        "len(pi_decimal)"
      ],
      "metadata": {
        "colab": {
          "base_uri": "https://localhost:8080/"
        },
        "id": "_qQJK0RORDsJ",
        "outputId": "56673742-24ab-4f65-ce87-9216bfe4230b"
      },
      "execution_count": null,
      "outputs": [
        {
          "output_type": "execute_result",
          "data": {
            "text/plain": [
              "15"
            ]
          },
          "metadata": {},
          "execution_count": 75
        }
      ]
    },
    {
      "cell_type": "code",
      "source": [],
      "metadata": {
        "id": "-MSJv5hGQp2S"
      },
      "execution_count": null,
      "outputs": []
    },
    {
      "cell_type": "code",
      "source": [
        "'pi = {0:.2f}'.format(pi)"
      ],
      "metadata": {
        "colab": {
          "base_uri": "https://localhost:8080/",
          "height": 35
        },
        "id": "l_7DgYmuRu7Z",
        "outputId": "92427dc5-ae25-4aa2-81d6-e4552242460b"
      },
      "execution_count": null,
      "outputs": [
        {
          "output_type": "execute_result",
          "data": {
            "text/plain": [
              "'pi = 3.14'"
            ],
            "application/vnd.google.colaboratory.intrinsic+json": {
              "type": "string"
            }
          },
          "metadata": {},
          "execution_count": 78
        }
      ]
    },
    {
      "cell_type": "code",
      "source": [
        "for i in range(2,11):\n",
        "  pi_part = str(pi)[0:i+2]\n",
        "  print('The value of pi = '+ pi_part +f' upto {i} decimal')"
      ],
      "metadata": {
        "colab": {
          "base_uri": "https://localhost:8080/"
        },
        "id": "6sTuME2ST92T",
        "outputId": "052415a0-d32f-4781-ea5b-cd877c2499a3"
      },
      "execution_count": null,
      "outputs": [
        {
          "output_type": "stream",
          "name": "stdout",
          "text": [
            "The value of pi = 3.14 upto 2 decimal\n",
            "The value of pi = 3.142 upto 3 decimal\n",
            "The value of pi = 3.1428 upto 4 decimal\n",
            "The value of pi = 3.14285 upto 5 decimal\n",
            "The value of pi = 3.142857 upto 6 decimal\n",
            "The value of pi = 3.1428571 upto 7 decimal\n",
            "The value of pi = 3.14285714 upto 8 decimal\n",
            "The value of pi = 3.142857142 upto 9 decimal\n",
            "The value of pi = 3.1428571428 upto 10 decimal\n"
          ]
        }
      ]
    },
    {
      "cell_type": "code",
      "source": [
        "for i in range(2,11):\n",
        "  # pi_part = str(pi)[0:i+2]\n",
        "  print(f'The value of pi = {round(pi,i)} upto {i} decimal')"
      ],
      "metadata": {
        "colab": {
          "base_uri": "https://localhost:8080/"
        },
        "id": "QeJYE2-mRuvB",
        "outputId": "34f03dfc-6536-4ad7-81f7-dd322b3e59fb"
      },
      "execution_count": null,
      "outputs": [
        {
          "output_type": "stream",
          "name": "stdout",
          "text": [
            "The value of pi = 3.14 upto 2 decimal\n",
            "The value of pi = 3.143 upto 3 decimal\n",
            "The value of pi = 3.1429 upto 4 decimal\n",
            "The value of pi = 3.14286 upto 5 decimal\n",
            "The value of pi = 3.142857 upto 6 decimal\n",
            "The value of pi = 3.1428571 upto 7 decimal\n",
            "The value of pi = 3.14285714 upto 8 decimal\n",
            "The value of pi = 3.142857143 upto 9 decimal\n",
            "The value of pi = 3.1428571429 upto 10 decimal\n"
          ]
        }
      ]
    },
    {
      "cell_type": "code",
      "source": [],
      "metadata": {
        "id": "IGv_b957rvsh"
      },
      "execution_count": null,
      "outputs": []
    },
    {
      "cell_type": "markdown",
      "source": [
        "# Regular expression\n",
        "[Read: String Manipulation and Regular Expressions](https://jakevdp.github.io/WhirlwindTourOfPython/14-strings-and-regular-expressions.html)\n"
      ],
      "metadata": {
        "id": "b2JhyJRfrwSj"
      }
    },
    {
      "cell_type": "markdown",
      "source": [
        "# TO DO\n",
        "**Review previous python stuffs**\n",
        "\n",
        "**Learn basic about google colab**\n",
        "\n",
        "**Learn moderate Markdown commands**"
      ],
      "metadata": {
        "id": "mDst7T0AgWOj"
      }
    },
    {
      "cell_type": "code",
      "source": [],
      "metadata": {
        "id": "GE7PhkhPgc9B"
      },
      "execution_count": null,
      "outputs": []
    }
  ]
}