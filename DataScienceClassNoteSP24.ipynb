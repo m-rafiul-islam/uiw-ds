{
  "nbformat": 4,
  "nbformat_minor": 0,
  "metadata": {
    "colab": {
      "provenance": [],
      "toc_visible": true,
      "authorship_tag": "ABX9TyNw5p1Y/2YuNGrVVCvPPnPN",
      "include_colab_link": true
    },
    "kernelspec": {
      "name": "python3",
      "display_name": "Python 3"
    },
    "language_info": {
      "name": "python"
    }
  },
  "cells": [
    {
      "cell_type": "markdown",
      "metadata": {
        "id": "view-in-github",
        "colab_type": "text"
      },
      "source": [
        "<a href=\"https://colab.research.google.com/github/m-rafiul-islam/uiw-ds/blob/main/DataScienceClassNoteSP24.ipynb\" target=\"_parent\"><img src=\"https://colab.research.google.com/assets/colab-badge.svg\" alt=\"Open In Colab\"/></a>"
      ]
    },
    {
      "cell_type": "markdown",
      "source": [
        "# Colab Basic"
      ],
      "metadata": {
        "id": "lYcEdEJeVDHN"
      }
    },
    {
      "cell_type": "code",
      "source": [
        "#cell\n",
        "## code cell\n",
        "## Text cell"
      ],
      "metadata": {
        "id": "NM6euKNVUYkE"
      },
      "execution_count": null,
      "outputs": []
    },
    {
      "cell_type": "code",
      "source": [
        "print('a')\n",
        "# crtl+enter\n",
        "# shift+enter"
      ],
      "metadata": {
        "colab": {
          "base_uri": "https://localhost:8080/"
        },
        "id": "4aXP4zMSUeJS",
        "outputId": "caa036df-5715-4771-ba54-3d510d90cbe7"
      },
      "execution_count": null,
      "outputs": [
        {
          "output_type": "stream",
          "name": "stdout",
          "text": [
            "a\n"
          ]
        }
      ]
    },
    {
      "cell_type": "markdown",
      "source": [
        "# Markdown\n",
        "\n",
        "**Bold Text **\n",
        "\n",
        "*italicized text*"
      ],
      "metadata": {
        "id": "x3E47ERvVkR1"
      }
    },
    {
      "cell_type": "markdown",
      "source": [
        "https://www.ibm.com/docs/en/watson-studio-local/1.2.3?topic=notebooks-markdown-jupyter-cheatsheet"
      ],
      "metadata": {
        "id": "bf5s8Ge619qJ"
      }
    },
    {
      "cell_type": "markdown",
      "source": [
        "# Command Lines\n",
        "https://www.codecademy.com/learn/learn-the-command-line/modules/learn-the-command-line-navigation/cheatsheet"
      ],
      "metadata": {
        "id": "uwUsdeJX2NDC"
      }
    },
    {
      "cell_type": "markdown",
      "source": [
        "# Python Basic"
      ],
      "metadata": {
        "id": "Q4wJXSFDU6Ik"
      }
    },
    {
      "cell_type": "markdown",
      "source": [
        "add any comments"
      ],
      "metadata": {
        "id": "s2VBbDNnWeSt"
      }
    },
    {
      "cell_type": "code",
      "source": [
        "# your comments"
      ],
      "metadata": {
        "id": "eGTQ8YvTVPWL"
      },
      "execution_count": null,
      "outputs": []
    },
    {
      "cell_type": "markdown",
      "source": [
        "## Basic opperations\n"
      ],
      "metadata": {
        "id": "81aolmvSWuWO"
      }
    },
    {
      "cell_type": "code",
      "source": [
        "1"
      ],
      "metadata": {
        "colab": {
          "base_uri": "https://localhost:8080/"
        },
        "id": "5htC7_PwWl3A",
        "outputId": "fb53d976-66cb-4c3c-a9ef-48a395775d43"
      },
      "execution_count": 1,
      "outputs": [
        {
          "output_type": "execute_result",
          "data": {
            "text/plain": [
              "1"
            ]
          },
          "metadata": {},
          "execution_count": 1
        }
      ]
    },
    {
      "cell_type": "code",
      "source": [
        "1+2"
      ],
      "metadata": {
        "colab": {
          "base_uri": "https://localhost:8080/"
        },
        "id": "Ufy8CkEmWzzJ",
        "outputId": "79999666-6d55-424b-a0dd-939942aa63bf"
      },
      "execution_count": 2,
      "outputs": [
        {
          "output_type": "execute_result",
          "data": {
            "text/plain": [
              "3"
            ]
          },
          "metadata": {},
          "execution_count": 2
        }
      ]
    },
    {
      "cell_type": "code",
      "source": [
        "2-1"
      ],
      "metadata": {
        "colab": {
          "base_uri": "https://localhost:8080/"
        },
        "id": "Ip_uXpKqW02f",
        "outputId": "66e56634-68c2-4fb7-eac3-47f24540ebfc"
      },
      "execution_count": 3,
      "outputs": [
        {
          "output_type": "execute_result",
          "data": {
            "text/plain": [
              "1"
            ]
          },
          "metadata": {},
          "execution_count": 3
        }
      ]
    },
    {
      "cell_type": "code",
      "source": [
        "# multiplication\n",
        "1*2"
      ],
      "metadata": {
        "colab": {
          "base_uri": "https://localhost:8080/"
        },
        "id": "4bEgMp3LW2mu",
        "outputId": "6bf63c61-f877-4ce8-d3d7-e21447888e5f"
      },
      "execution_count": 4,
      "outputs": [
        {
          "output_type": "execute_result",
          "data": {
            "text/plain": [
              "2"
            ]
          },
          "metadata": {},
          "execution_count": 4
        }
      ]
    },
    {
      "cell_type": "code",
      "source": [
        "# division\n",
        "6/2"
      ],
      "metadata": {
        "colab": {
          "base_uri": "https://localhost:8080/"
        },
        "id": "L-uVF7ByW5Z-",
        "outputId": "df2972a5-2871-4ae9-d258-dab5bd583a6d"
      },
      "execution_count": 5,
      "outputs": [
        {
          "output_type": "execute_result",
          "data": {
            "text/plain": [
              "3.0"
            ]
          },
          "metadata": {},
          "execution_count": 5
        }
      ]
    },
    {
      "cell_type": "code",
      "source": [
        "# modulo division\n",
        "6%2"
      ],
      "metadata": {
        "colab": {
          "base_uri": "https://localhost:8080/"
        },
        "id": "J_DeeZBuXEbP",
        "outputId": "de06dd76-2630-4d2a-b865-d0dcbb6b8334"
      },
      "execution_count": 6,
      "outputs": [
        {
          "output_type": "execute_result",
          "data": {
            "text/plain": [
              "0"
            ]
          },
          "metadata": {},
          "execution_count": 6
        }
      ]
    },
    {
      "cell_type": "code",
      "source": [
        "# Multiplcation\n",
        "3*2\n",
        "3**2 #** power"
      ],
      "metadata": {
        "colab": {
          "base_uri": "https://localhost:8080/"
        },
        "id": "eDz6gpwiXGmn",
        "outputId": "21f0a55a-a3ec-4cf5-c57d-9501b7363313"
      },
      "execution_count": 7,
      "outputs": [
        {
          "output_type": "execute_result",
          "data": {
            "text/plain": [
              "9"
            ]
          },
          "metadata": {},
          "execution_count": 7
        }
      ]
    },
    {
      "cell_type": "code",
      "source": [
        "3^2"
      ],
      "metadata": {
        "colab": {
          "base_uri": "https://localhost:8080/"
        },
        "id": "5aX0MkzXXZXv",
        "outputId": "e809bbc2-e3b1-4e21-d25e-964bb2f8e718"
      },
      "execution_count": 8,
      "outputs": [
        {
          "output_type": "execute_result",
          "data": {
            "text/plain": [
              "1"
            ]
          },
          "metadata": {},
          "execution_count": 8
        }
      ]
    },
    {
      "cell_type": "markdown",
      "source": [
        "## Variable Assignment"
      ],
      "metadata": {
        "id": "5rTWU5wkX2em"
      }
    },
    {
      "cell_type": "code",
      "source": [
        "x = 2\n",
        "y = 3"
      ],
      "metadata": {
        "id": "h1R3aFIzXi-X"
      },
      "execution_count": null,
      "outputs": []
    },
    {
      "cell_type": "code",
      "source": [
        "add = x+y"
      ],
      "metadata": {
        "id": "E5ylHJnKX_V-"
      },
      "execution_count": null,
      "outputs": []
    },
    {
      "cell_type": "code",
      "source": [
        "# how to show the output\n",
        "add"
      ],
      "metadata": {
        "colab": {
          "base_uri": "https://localhost:8080/"
        },
        "id": "RPLBhxgZYBUt",
        "outputId": "ac447355-bb3f-4c96-ecf3-44d7646ae483"
      },
      "execution_count": null,
      "outputs": [
        {
          "output_type": "execute_result",
          "data": {
            "text/plain": [
              "5"
            ]
          },
          "metadata": {},
          "execution_count": 22
        }
      ]
    },
    {
      "cell_type": "code",
      "source": [
        "print(add)"
      ],
      "metadata": {
        "colab": {
          "base_uri": "https://localhost:8080/"
        },
        "id": "pn3c4uIiYJX9",
        "outputId": "5aca9e4f-97a7-434e-e933-abab09c0b605"
      },
      "execution_count": null,
      "outputs": [
        {
          "output_type": "stream",
          "name": "stdout",
          "text": [
            "5\n"
          ]
        }
      ]
    },
    {
      "cell_type": "code",
      "source": [
        "x\n",
        "y"
      ],
      "metadata": {
        "colab": {
          "base_uri": "https://localhost:8080/"
        },
        "id": "RWGEqw0LYK8f",
        "outputId": "1b7fd31f-8ea9-4289-8311-8c1a7be6cfe0"
      },
      "execution_count": null,
      "outputs": [
        {
          "output_type": "execute_result",
          "data": {
            "text/plain": [
              "3"
            ]
          },
          "metadata": {},
          "execution_count": 25
        }
      ]
    },
    {
      "cell_type": "code",
      "source": [
        "print(x)\n",
        "print(y)"
      ],
      "metadata": {
        "colab": {
          "base_uri": "https://localhost:8080/"
        },
        "id": "ePs0M4LjYPXv",
        "outputId": "c9a0ef55-4f24-4aaf-e5f7-a7c1ad65aa1b"
      },
      "execution_count": null,
      "outputs": [
        {
          "output_type": "stream",
          "name": "stdout",
          "text": [
            "2\n",
            "3\n"
          ]
        }
      ]
    },
    {
      "cell_type": "code",
      "source": [
        "# print is a built-in python function, function()"
      ],
      "metadata": {
        "id": "IqhekLyFYdsO"
      },
      "execution_count": null,
      "outputs": []
    },
    {
      "cell_type": "code",
      "source": [
        "print('x = ',x)"
      ],
      "metadata": {
        "colab": {
          "base_uri": "https://localhost:8080/"
        },
        "id": "WIz0RhK6Yzfm",
        "outputId": "3f383b2f-d7d9-49a7-a9f4-708a4fdbdfa9"
      },
      "execution_count": null,
      "outputs": [
        {
          "output_type": "stream",
          "name": "stdout",
          "text": [
            "x =  2\n"
          ]
        }
      ]
    },
    {
      "cell_type": "markdown",
      "source": [
        "## Data Types\n",
        "- Numbers\n",
        "- Strings\n",
        "- Lists\n",
        "- Tules\n",
        "- Booleans\n",
        "- Sets\n",
        "- Dictionaries\n",
        "\n",
        "https://jakevdp.github.io/WhirlwindTourOfPython/06-built-in-data-structures.html\n"
      ],
      "metadata": {
        "id": "haU8WYX-zY24"
      }
    },
    {
      "cell_type": "markdown",
      "source": [
        "### String"
      ],
      "metadata": {
        "id": "C_LuWKCWZEDy"
      }
    },
    {
      "cell_type": "code",
      "source": [
        "s = 'hello'\n",
        "s"
      ],
      "metadata": {
        "colab": {
          "base_uri": "https://localhost:8080/",
          "height": 36
        },
        "id": "mnvInQYTZId4",
        "outputId": "29890578-4966-4541-e889-5be9e7016fe0"
      },
      "execution_count": null,
      "outputs": [
        {
          "output_type": "execute_result",
          "data": {
            "text/plain": [
              "'hello'"
            ],
            "application/vnd.google.colaboratory.intrinsic+json": {
              "type": "string"
            }
          },
          "metadata": {},
          "execution_count": 29
        }
      ]
    },
    {
      "cell_type": "code",
      "source": [
        "# like print(), type() is also a built-in function\n",
        "type(x)"
      ],
      "metadata": {
        "colab": {
          "base_uri": "https://localhost:8080/"
        },
        "id": "mahI6tTkZPYQ",
        "outputId": "f434349d-a060-46a7-af1a-d6225c5f29d4"
      },
      "execution_count": null,
      "outputs": [
        {
          "output_type": "execute_result",
          "data": {
            "text/plain": [
              "int"
            ]
          },
          "metadata": {},
          "execution_count": 30
        }
      ]
    },
    {
      "cell_type": "code",
      "source": [
        "#int - short form for integer\n",
        "# str - short form for string"
      ],
      "metadata": {
        "id": "hNiNdjifZlrR"
      },
      "execution_count": null,
      "outputs": []
    },
    {
      "cell_type": "code",
      "source": [
        "type(s)"
      ],
      "metadata": {
        "colab": {
          "base_uri": "https://localhost:8080/"
        },
        "id": "2T1qJNv4ZqPv",
        "outputId": "4106ac86-7501-4bc7-d0ba-3151c2a24d9e"
      },
      "execution_count": null,
      "outputs": [
        {
          "output_type": "execute_result",
          "data": {
            "text/plain": [
              "str"
            ]
          },
          "metadata": {},
          "execution_count": 31
        }
      ]
    },
    {
      "cell_type": "code",
      "source": [
        "# three ways you can assign a string\n",
        "# using sigle quote\n",
        "s = 'hello'\n",
        "s"
      ],
      "metadata": {
        "colab": {
          "base_uri": "https://localhost:8080/",
          "height": 36
        },
        "id": "N6XBNFVPZsNb",
        "outputId": "50616e4b-a9cf-45ed-f89b-f7c4f76a8a10"
      },
      "execution_count": null,
      "outputs": [
        {
          "output_type": "execute_result",
          "data": {
            "text/plain": [
              "'hello'"
            ],
            "application/vnd.google.colaboratory.intrinsic+json": {
              "type": "string"
            }
          },
          "metadata": {},
          "execution_count": 32
        }
      ]
    },
    {
      "cell_type": "code",
      "source": [
        "# using double qoute\n",
        "s = \"hello\"\n",
        "s"
      ],
      "metadata": {
        "colab": {
          "base_uri": "https://localhost:8080/",
          "height": 36
        },
        "id": "dLj1s8BAaBYh",
        "outputId": "82ef1bc8-0b6b-4fb1-b28c-b84f28a646f6"
      },
      "execution_count": null,
      "outputs": [
        {
          "output_type": "execute_result",
          "data": {
            "text/plain": [
              "'hello'"
            ],
            "application/vnd.google.colaboratory.intrinsic+json": {
              "type": "string"
            }
          },
          "metadata": {},
          "execution_count": 33
        }
      ]
    },
    {
      "cell_type": "code",
      "source": [
        "# using tiriple qoute --- normally used for multiline\n",
        "s = '''line 1\n",
        "line 2\n",
        "line 3'''"
      ],
      "metadata": {
        "id": "CxlAzNXsaJcZ"
      },
      "execution_count": null,
      "outputs": []
    },
    {
      "cell_type": "code",
      "source": [
        "s"
      ],
      "metadata": {
        "colab": {
          "base_uri": "https://localhost:8080/",
          "height": 36
        },
        "id": "aX3-P7zNaf7X",
        "outputId": "174d55a9-c33d-448a-e107-67b7a6daabfe"
      },
      "execution_count": null,
      "outputs": [
        {
          "output_type": "execute_result",
          "data": {
            "text/plain": [
              "'line 1\\nline 2\\nline 3'"
            ],
            "application/vnd.google.colaboratory.intrinsic+json": {
              "type": "string"
            }
          },
          "metadata": {},
          "execution_count": 40
        }
      ]
    },
    {
      "cell_type": "code",
      "source": [
        "# \\n : new line"
      ],
      "metadata": {
        "id": "1q1BNtSualCH"
      },
      "execution_count": null,
      "outputs": []
    },
    {
      "cell_type": "code",
      "source": [
        "print(s)"
      ],
      "metadata": {
        "colab": {
          "base_uri": "https://localhost:8080/"
        },
        "id": "vdzTUd1-arUv",
        "outputId": "97a8721e-6857-46b4-d433-d300248bd3be"
      },
      "execution_count": null,
      "outputs": [
        {
          "output_type": "stream",
          "name": "stdout",
          "text": [
            "line 1\n",
            "line 2\n",
            "line 3\n"
          ]
        }
      ]
    },
    {
      "cell_type": "code",
      "source": [
        "x = '''we are learning Pyhton now in\n",
        "      room BSH 216'''"
      ],
      "metadata": {
        "id": "Deqq_BTeasUa"
      },
      "execution_count": null,
      "outputs": []
    },
    {
      "cell_type": "code",
      "source": [
        "x"
      ],
      "metadata": {
        "colab": {
          "base_uri": "https://localhost:8080/",
          "height": 36
        },
        "id": "yz4KZnU-bEyB",
        "outputId": "9978bae3-fd22-432d-c270-0e1bc39549c0"
      },
      "execution_count": null,
      "outputs": [
        {
          "output_type": "execute_result",
          "data": {
            "text/plain": [
              "'we are learning Pyhton now in\\n      room BSH 216'"
            ],
            "application/vnd.google.colaboratory.intrinsic+json": {
              "type": "string"
            }
          },
          "metadata": {},
          "execution_count": 43
        }
      ]
    },
    {
      "cell_type": "code",
      "source": [
        "mul_s = 'we are learning Pyhton now in\\n      room BSH 216'\n",
        "mul_s"
      ],
      "metadata": {
        "colab": {
          "base_uri": "https://localhost:8080/",
          "height": 36
        },
        "id": "mqnUbHERbFVp",
        "outputId": "06ed8536-27f3-4c5c-c3bf-1b4cd03f7443"
      },
      "execution_count": null,
      "outputs": [
        {
          "output_type": "execute_result",
          "data": {
            "text/plain": [
              "'we are learning Pyhton now in\\n      room BSH 216'"
            ],
            "application/vnd.google.colaboratory.intrinsic+json": {
              "type": "string"
            }
          },
          "metadata": {},
          "execution_count": 45
        }
      ]
    },
    {
      "cell_type": "code",
      "source": [
        "print(mul_s)"
      ],
      "metadata": {
        "colab": {
          "base_uri": "https://localhost:8080/"
        },
        "id": "DFDZs4RqbZVH",
        "outputId": "36620809-25a9-457a-8c55-b5d3c9a873a4"
      },
      "execution_count": null,
      "outputs": [
        {
          "output_type": "stream",
          "name": "stdout",
          "text": [
            "we are learning Pyhton now in\n",
            "      room BSH 216\n"
          ]
        }
      ]
    },
    {
      "cell_type": "code",
      "source": [
        "mul_s = r'we are learning Pyhton now in\\n      room BSH 216'\n",
        "mul_s"
      ],
      "metadata": {
        "colab": {
          "base_uri": "https://localhost:8080/",
          "height": 36
        },
        "id": "hvwTvlqHbeMQ",
        "outputId": "4bb64cfc-a9cf-457f-a38d-8f8c1d03ef22"
      },
      "execution_count": null,
      "outputs": [
        {
          "output_type": "execute_result",
          "data": {
            "text/plain": [
              "'we are learning Pyhton now in\\\\n      room BSH 216'"
            ],
            "application/vnd.google.colaboratory.intrinsic+json": {
              "type": "string"
            }
          },
          "metadata": {},
          "execution_count": 47
        }
      ]
    },
    {
      "cell_type": "code",
      "source": [
        "print(mul_s)"
      ],
      "metadata": {
        "colab": {
          "base_uri": "https://localhost:8080/"
        },
        "id": "qFV_FlR6bhp7",
        "outputId": "53ce8a31-48f1-4499-958d-1f4d82de1885"
      },
      "execution_count": null,
      "outputs": [
        {
          "output_type": "stream",
          "name": "stdout",
          "text": [
            "we are learning Pyhton now in\\n      room BSH 216\n"
          ]
        }
      ]
    },
    {
      "cell_type": "code",
      "source": [
        "# r -- raw string\n",
        "# normally '\\n' means new line\n",
        "# r'\\n' means \\n"
      ],
      "metadata": {
        "id": "HeS7b5k1bjnS"
      },
      "execution_count": null,
      "outputs": []
    },
    {
      "cell_type": "markdown",
      "source": [
        "I want to pint the following statement\n",
        "\n",
        "we can't wait to learn new python code."
      ],
      "metadata": {
        "id": "m69A6r37cdA-"
      }
    },
    {
      "cell_type": "markdown",
      "source": [
        "\\ : called escape character\n",
        "\n",
        "\\n: means new line\n",
        "\n",
        "\\t: means tab\n"
      ],
      "metadata": {
        "id": "IF90211ydD_q"
      }
    },
    {
      "cell_type": "code",
      "source": [
        "print(\"we can't wait to learn new python code.\")"
      ],
      "metadata": {
        "colab": {
          "base_uri": "https://localhost:8080/"
        },
        "id": "9gd4a9fbccRA",
        "outputId": "6abbe5f9-658e-42e1-d85d-b26e07409254"
      },
      "execution_count": null,
      "outputs": [
        {
          "output_type": "stream",
          "name": "stdout",
          "text": [
            "we can't wait to learn new python code.\n"
          ]
        }
      ]
    },
    {
      "cell_type": "code",
      "source": [
        "print('''we can't wait to learn new python code.''')"
      ],
      "metadata": {
        "colab": {
          "base_uri": "https://localhost:8080/"
        },
        "id": "1ACtEt8Ld58Z",
        "outputId": "27139117-776c-48dd-c93d-3f2e5cc4f5e0"
      },
      "execution_count": null,
      "outputs": [
        {
          "output_type": "stream",
          "name": "stdout",
          "text": [
            "we can't wait to learn new python code.\n"
          ]
        }
      ]
    },
    {
      "cell_type": "code",
      "source": [
        "s =\"we can't wait to learn new python code.\"\n",
        "s"
      ],
      "metadata": {
        "colab": {
          "base_uri": "https://localhost:8080/",
          "height": 36
        },
        "id": "L8aZy8BgeDNz",
        "outputId": "cd17517a-4a37-4104-92eb-cb5a7f7eaf11"
      },
      "execution_count": null,
      "outputs": [
        {
          "output_type": "execute_result",
          "data": {
            "text/plain": [
              "\"we can't wait to learn new python code.\""
            ],
            "application/vnd.google.colaboratory.intrinsic+json": {
              "type": "string"
            }
          },
          "metadata": {},
          "execution_count": 54
        }
      ]
    },
    {
      "cell_type": "markdown",
      "source": [
        "### Lists\n",
        "A list is a data structure in Python that is a mutable, or changeable, ordered sequence of elements.\n",
        "**The standard mutable multi-element container**"
      ],
      "metadata": {
        "id": "dAAccHEdeapR"
      }
    },
    {
      "cell_type": "code",
      "source": [
        "l = [1,2,3]"
      ],
      "metadata": {
        "id": "BnNwyQlTec7s"
      },
      "execution_count": null,
      "outputs": []
    },
    {
      "cell_type": "code",
      "source": [
        "type(l)"
      ],
      "metadata": {
        "colab": {
          "base_uri": "https://localhost:8080/"
        },
        "id": "zFqnucgafJd0",
        "outputId": "e78933a3-637d-4d4b-8639-eff3cb441189"
      },
      "execution_count": null,
      "outputs": [
        {
          "output_type": "execute_result",
          "data": {
            "text/plain": [
              "list"
            ]
          },
          "metadata": {},
          "execution_count": 56
        }
      ]
    },
    {
      "cell_type": "code",
      "source": [
        "for item in l:\n",
        "  print(type(item))"
      ],
      "metadata": {
        "colab": {
          "base_uri": "https://localhost:8080/"
        },
        "id": "EsRNa-ukfK3s",
        "outputId": "9872605d-44e0-4ded-9778-eee9e97decec"
      },
      "execution_count": null,
      "outputs": [
        {
          "output_type": "stream",
          "name": "stdout",
          "text": [
            "<class 'int'>\n",
            "<class 'int'>\n",
            "<class 'int'>\n"
          ]
        }
      ]
    },
    {
      "cell_type": "code",
      "source": [
        "multi_type_list = [1,1.2,[1,'hello'],'string']\n",
        "type(multi_type_list)"
      ],
      "metadata": {
        "colab": {
          "base_uri": "https://localhost:8080/"
        },
        "id": "R2xJ8sjAfUTM",
        "outputId": "7612472f-a9b8-4c73-ef9a-0c6c7c4d0435"
      },
      "execution_count": null,
      "outputs": [
        {
          "output_type": "execute_result",
          "data": {
            "text/plain": [
              "list"
            ]
          },
          "metadata": {},
          "execution_count": 61
        }
      ]
    },
    {
      "cell_type": "code",
      "source": [
        "for item in multi_type_list:\n",
        "  print(type(item))"
      ],
      "metadata": {
        "colab": {
          "base_uri": "https://localhost:8080/"
        },
        "id": "ybhHjjZRfoCT",
        "outputId": "a1fa3676-f3db-495d-ade6-0157d38a4542"
      },
      "execution_count": null,
      "outputs": [
        {
          "output_type": "stream",
          "name": "stdout",
          "text": [
            "<class 'int'>\n",
            "<class 'float'>\n",
            "<class 'list'>\n",
            "<class 'str'>\n"
          ]
        }
      ]
    },
    {
      "cell_type": "markdown",
      "source": [
        "### Booleans"
      ],
      "metadata": {
        "id": "6_iJzKPB1fbx"
      }
    },
    {
      "cell_type": "markdown",
      "source": [
        "### Sets"
      ],
      "metadata": {
        "id": "qJyjeYx01j4b"
      }
    },
    {
      "cell_type": "markdown",
      "source": [
        "### Dictionaies\n"
      ],
      "metadata": {
        "id": "kRtwFscS1oyN"
      }
    },
    {
      "cell_type": "code",
      "source": [],
      "metadata": {
        "id": "TV3id1IjfxL3"
      },
      "execution_count": null,
      "outputs": []
    },
    {
      "cell_type": "markdown",
      "source": [
        "## Control Flows"
      ],
      "metadata": {
        "id": "fonJKrGR5nMp"
      }
    },
    {
      "cell_type": "markdown",
      "source": [
        "## Some useful functions"
      ],
      "metadata": {
        "id": "b67KoOa76bcC"
      }
    },
    {
      "cell_type": "markdown",
      "source": [
        "### range()"
      ],
      "metadata": {
        "id": "E2GThwiM6fFf"
      }
    },
    {
      "cell_type": "markdown",
      "source": [
        "### len()"
      ],
      "metadata": {
        "id": "oWj51XPM65_4"
      }
    },
    {
      "cell_type": "markdown",
      "source": [
        "### add_your_own()"
      ],
      "metadata": {
        "id": "cwS6qA656_8F"
      }
    },
    {
      "cell_type": "markdown",
      "source": [
        "## Creating a function"
      ],
      "metadata": {
        "id": "-hp8GqMf7YVI"
      }
    },
    {
      "cell_type": "markdown",
      "source": [
        "#lambda expression"
      ],
      "metadata": {
        "id": "KjP1jjWl7evL"
      }
    },
    {
      "cell_type": "code",
      "source": [],
      "metadata": {
        "id": "dPaaP-Hl7doD"
      },
      "execution_count": null,
      "outputs": []
    },
    {
      "cell_type": "markdown",
      "source": [
        "# TO DO\n",
        "**Review previous python stuffs**\n",
        "\n",
        "**Learn basic about google colab**\n",
        "\n",
        "**Learn moderate Markdown commands**"
      ],
      "metadata": {
        "id": "mDst7T0AgWOj"
      }
    },
    {
      "cell_type": "code",
      "source": [],
      "metadata": {
        "id": "GE7PhkhPgc9B"
      },
      "execution_count": null,
      "outputs": []
    }
  ]
}