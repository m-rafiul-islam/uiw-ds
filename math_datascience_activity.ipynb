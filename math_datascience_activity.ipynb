{
  "nbformat": 4,
  "nbformat_minor": 0,
  "metadata": {
    "colab": {
      "provenance": [],
      "authorship_tag": "ABX9TyOBKPtTIT3HDYhO1ONN6okh",
      "include_colab_link": true
    },
    "kernelspec": {
      "name": "python3",
      "display_name": "Python 3"
    },
    "language_info": {
      "name": "python"
    }
  },
  "cells": [
    {
      "cell_type": "markdown",
      "metadata": {
        "id": "view-in-github",
        "colab_type": "text"
      },
      "source": [
        "<a href=\"https://colab.research.google.com/github/m-rafiul-islam/uiw-ds/blob/main/math_datascience_activity.ipynb\" target=\"_parent\"><img src=\"https://colab.research.google.com/assets/colab-badge.svg\" alt=\"Open In Colab\"/></a>"
      ]
    },
    {
      "cell_type": "markdown",
      "source": [
        "# Prime Number"
      ],
      "metadata": {
        "id": "LfzNR4HOSdF4"
      }
    },
    {
      "cell_type": "markdown",
      "source": [
        "Definion: A prime number is a **natural number**\n",
        "- greater than 1\n",
        "- that is not a product of two smaller natural numbers.\n",
        "\n",
        "In other words, a prime number is a whole number greater than 1 that is divisible only by **1 and itself**.\n",
        "\n",
        "For example, the first six prime numbers are 2, 3, 5, 7, 11, and 13. These numbers are only divisible evenly by 1 and themselves, and they do not have any other divisors.\n",
        "\n",
        "Prime numbers play a fundamental role in number theory and are used in various mathematical and computational applications, such as cryptography."
      ],
      "metadata": {
        "id": "Pe89iRH8XwKV"
      }
    },
    {
      "cell_type": "code",
      "source": [
        "def is_prime(n):\n",
        "  \"\"\"\n",
        "  Checks if a given number is prime.\n",
        "\n",
        "  Args:\n",
        "    n: The number to check.\n",
        "\n",
        "  Returns:\n",
        "    True if n is prime, False otherwise.\n",
        "  \"\"\"\n",
        "\n",
        "  if n <= 1:\n",
        "    return False\n",
        "\n",
        "  for i in range(2, int(n ** 0.5) + 1):\n",
        "    if n % i == 0:\n",
        "      return False\n",
        "\n",
        "  return True\n",
        "\n",
        "\n",
        "def main():\n",
        "  \"\"\"\n",
        "  Gets a number from the user and prints whether it is prime or not.\n",
        "  \"\"\"\n",
        "\n",
        "  n = int(input(\"Enter a number: \"))\n",
        "\n",
        "  if is_prime(n):\n",
        "    print(f\"{n} is prime.\")\n",
        "  else:\n",
        "    print(f\"{n} is not prime.\")\n",
        "\n",
        "\n",
        "if __name__ == \"__main__\":\n",
        "  main()\n"
      ],
      "metadata": {
        "colab": {
          "base_uri": "https://localhost:8080/"
        },
        "id": "aQOh-NK9ZMdN",
        "outputId": "0b818151-81ab-4a4e-9fb1-c0ec1b954a02"
      },
      "execution_count": null,
      "outputs": [
        {
          "output_type": "stream",
          "name": "stdout",
          "text": [
            "Enter a number: 3\n",
            "3 is prime.\n"
          ]
        }
      ]
    },
    {
      "cell_type": "markdown",
      "source": [
        "#Cryptography\n",
        "Cryptography is the process of hiding or coding information so that only the intended recipient can read it. It's been used for thousands of years and is still used in bank cards, computer passwords, and ecommerce.\n"
      ],
      "metadata": {
        "id": "Vylc08kMEGHu"
      }
    },
    {
      "cell_type": "markdown",
      "source": [
        "**Activity: Cipher Scavenger Hunt**\n",
        "\n",
        "Materials:\n",
        "\n",
        "* Envelopes or small containers\n",
        "\n",
        "* Printed clues or messages encrypted using a simple cipher (e.g., Caesar Cipher)\n",
        "\n",
        "* Alphabet charts for reference\n",
        "\n",
        "**Rules**\n",
        "* Only shift for letters, i.e., no shift for numbers, blank space and special charecters.  \n",
        "* Shift values are only a prime number from 2 to 7"
      ],
      "metadata": {
        "id": "yBdO8wnCKsLD"
      }
    },
    {
      "cell_type": "code",
      "execution_count": null,
      "metadata": {
        "id": "55K5KoDnEBcH"
      },
      "outputs": [],
      "source": [
        "def encrypt_caesar(plaintext, shift):\n",
        "    encrypted_text = \"\"\n",
        "    for char in plaintext:\n",
        "        if char.isalpha():\n",
        "            # Encrypt uppercase letters\n",
        "            if char.isupper():\n",
        "                encrypted_text += chr((ord(char) + shift - ord('A')) % 26 + ord('A'))\n",
        "            # Encrypt lowercase letters\n",
        "            else:\n",
        "                encrypted_text += chr((ord(char) + shift - ord('a')) % 26 + ord('a'))\n",
        "        else:\n",
        "            encrypted_text += char\n",
        "    return encrypted_text\n",
        "\n",
        "def decrypt_caesar(ciphertext, shift):\n",
        "    return encrypt_caesar(ciphertext, -shift)\n"
      ]
    },
    {
      "cell_type": "code",
      "source": [
        "# Example usage:\n",
        "message = \"Welcome to UIW\"\n",
        "shift_value = 5 # Second Prime Number -- any of the prime number\n",
        "\n",
        "# Encrypt the message\n",
        "encrypted_message = encrypt_caesar(message, shift_value)\n",
        "print(\"Encrypted Message:\", encrypted_message)\n",
        "\n",
        "print(\"Shift Value:\", shift_value)\n",
        "# Decrypt the message\n",
        "decrypted_message = decrypt_caesar(encrypted_message, shift_value)\n",
        "print(\"Decrypted Message:\", decrypted_message)"
      ],
      "metadata": {
        "colab": {
          "base_uri": "https://localhost:8080/"
        },
        "id": "5y4abQc7jWMd",
        "outputId": "60b95b32-6a4e-45a2-da5d-4b3c1f77dda9"
      },
      "execution_count": null,
      "outputs": [
        {
          "output_type": "stream",
          "name": "stdout",
          "text": [
            "Encrypted Message: Bjqhtrj yt ZNB\n",
            "Shift Value: 5\n",
            "Decrypted Message: Welcome to UIW\n"
          ]
        }
      ]
    },
    {
      "cell_type": "code",
      "source": [
        "# Example usage:\n",
        "message = \"A natural number greater than 1 that has no positive divisors other than 1 and itself.\"\n",
        "shift_value = 3 # Second Prime Number -- any of the prime number\n",
        "\n",
        "# Encrypt the message\n",
        "encrypted_message = encrypt_caesar(message, shift_value)\n",
        "print(\"Encrypted Message:\", encrypted_message)\n",
        "\n",
        "print(\"Shift Value:\", shift_value)\n",
        "# Decrypt the message\n",
        "decrypted_message = decrypt_caesar(encrypted_message, shift_value)\n",
        "print(\"Decrypted Message:\", decrypted_message)"
      ],
      "metadata": {
        "colab": {
          "base_uri": "https://localhost:8080/"
        },
        "id": "UVDRpSVERyB4",
        "outputId": "89da0f07-1aa7-42f9-b891-52de7b1b050e"
      },
      "execution_count": null,
      "outputs": [
        {
          "output_type": "stream",
          "name": "stdout",
          "text": [
            "Encrypted Message: D qdwxudo qxpehu juhdwhu wkdq 1 wkdw kdv qr srvlwlyh glylvruv rwkhu wkdq 1 dqg lwvhoi.\n",
            "Shift Value: 3\n",
            "Decrypted Message: A natural number greater than 1 that has no positive divisors other than 1 and itself.\n"
          ]
        }
      ]
    },
    {
      "cell_type": "code",
      "source": [
        "# Example usage:\n",
        "message = \"Variable is a symbol or letter that represents a quantity that can change in an equation or expression.\"\n",
        "shift_value = 2 # Second Prime Number -- any of the prime number\n",
        "\n",
        "# Encrypt the message\n",
        "encrypted_message = encrypt_caesar(message, shift_value)\n",
        "print(\"Encrypted Message:\", encrypted_message)\n",
        "\n",
        "print(\"Shift Value:\", shift_value)\n",
        "# Decrypt the message\n",
        "decrypted_message = decrypt_caesar(encrypted_message, shift_value)\n",
        "print(\"Decrypted Message:\", decrypted_message)"
      ],
      "metadata": {
        "colab": {
          "base_uri": "https://localhost:8080/"
        },
        "id": "ylO7Z2RjR-1t",
        "outputId": "a6f8fc8a-2af0-415c-b97c-b9c0bef5dbb8"
      },
      "execution_count": null,
      "outputs": [
        {
          "output_type": "stream",
          "name": "stdout",
          "text": [
            "Encrypted Message: Xctkcdng ku c uaodqn qt ngvvgt vjcv tgrtgugpvu c swcpvkva vjcv ecp ejcpig kp cp gswcvkqp qt gzrtguukqp.\n",
            "Shift Value: 2\n",
            "Decrypted Message: Variable is a symbol or letter that represents a quantity that can change in an equation or expression.\n"
          ]
        }
      ]
    },
    {
      "cell_type": "code",
      "source": [
        "# Example usage:\n",
        "message = \"UIW offers a wide range of undergraduate, graduate, and professional programs.\"\n",
        "shift_value = 5 # Second Prime Number -- any of the prime number\n",
        "\n",
        "# Encrypt the message\n",
        "encrypted_message = encrypt_caesar(message, shift_value)\n",
        "print(\"Encrypted Message:\", encrypted_message)\n",
        "\n",
        "print(\"Shift Value:\", shift_value)\n",
        "# Decrypt the message\n",
        "decrypted_message = decrypt_caesar(encrypted_message, shift_value)\n",
        "print(\"Decrypted Message:\", decrypted_message)\n"
      ],
      "metadata": {
        "colab": {
          "base_uri": "https://localhost:8080/"
        },
        "id": "9mCdLbD7TmcZ",
        "outputId": "bd99d712-9741-4fb0-ae78-7c0beca99101"
      },
      "execution_count": null,
      "outputs": [
        {
          "output_type": "stream",
          "name": "stdout",
          "text": [
            "Encrypted Message: ZNB tkkjwx f bnij wfslj tk zsijwlwfizfyj, lwfizfyj, fsi uwtkjxxntsfq uwtlwfrx.\n",
            "Shift Value: 5\n",
            "Decrypted Message: UIW offers a wide range of undergraduate, graduate, and professional programs.\n"
          ]
        }
      ]
    },
    {
      "cell_type": "code",
      "source": [
        "# Example usage:\n",
        "message = \"Data science is a fast-growing field.\"\n",
        "shift_value = 7 # Second Prime Number -- any of the prime number\n",
        "\n",
        "# Encrypt the message\n",
        "encrypted_message = encrypt_caesar(message, shift_value)\n",
        "print(\"Encrypted Message:\", encrypted_message)\n",
        "\n",
        "print(\"Shift Value:\", shift_value)\n",
        "# Decrypt the message\n",
        "decrypted_message = decrypt_caesar(encrypted_message, shift_value)\n",
        "print(\"Decrypted Message:\", decrypted_message)"
      ],
      "metadata": {
        "colab": {
          "base_uri": "https://localhost:8080/"
        },
        "id": "Adu1hMDan-G6",
        "outputId": "f020a5f2-3561-46c1-80cf-4343011a54ff"
      },
      "execution_count": null,
      "outputs": [
        {
          "output_type": "stream",
          "name": "stdout",
          "text": [
            "Encrypted Message: Khah zjplujl pz h mhza-nyvdpun mplsk.\n",
            "Shift Value: 7\n",
            "Decrypted Message: Data science is a fast-growing field.\n"
          ]
        }
      ]
    },
    {
      "cell_type": "code",
      "source": [
        "\n",
        "# Example usage:\n",
        "message = \"UIW offers an exceptional BS in Data Science program.\"\n",
        "shift_value = 5 # Second Prime Number -- any of the prime number\n",
        "\n",
        "# Encrypt the message\n",
        "encrypted_message = encrypt_caesar(message, shift_value)\n",
        "print(\"Encrypted Message:\", encrypted_message)\n",
        "\n",
        "print(\"Shift Value:\", shift_value)\n",
        "# Decrypt the message\n",
        "decrypted_message = decrypt_caesar(encrypted_message, shift_value)\n",
        "print(\"Decrypted Message:\", decrypted_message)"
      ],
      "metadata": {
        "colab": {
          "base_uri": "https://localhost:8080/"
        },
        "id": "Lq5SoG3RpMQt",
        "outputId": "56c6b145-d1f2-4e38-d170-547dcdcbb91e"
      },
      "execution_count": null,
      "outputs": [
        {
          "output_type": "stream",
          "name": "stdout",
          "text": [
            "Encrypted Message: ZNB tkkjwx fs jchjuyntsfq GX ns Ifyf Xhnjshj uwtlwfr.\n",
            "Shift Value: 5\n",
            "Decrypted Message: UIW offers an exceptional BS in Data Science program.\n"
          ]
        }
      ]
    }
  ]
}